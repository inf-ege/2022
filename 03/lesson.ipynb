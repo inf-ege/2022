{
 "cells": [
  {
   "cell_type": "markdown",
   "metadata": {
    "pycharm": {
     "is_executing": true,
     "name": "#%%\n"
    }
   },
   "source": [
    "# Алгебра логики"
   ]
  },
  {
   "cell_type": "markdown",
   "metadata": {
    "pycharm": {
     "name": "#%% md\n"
    }
   },
   "source": [
    "## Задание 15"
   ]
  },
  {
   "cell_type": "markdown",
   "metadata": {
    "pycharm": {
     "name": "#%% md\n"
    }
   },
   "source": [
    "**Задание 15.1** Обозначим через m & n поразрядную конъюнкцию неотрицательных целых чисел m и n. Так, например, 14 & 5 = 11102 & 01012 = 01002 = 4. Для какого наименьшего неотрицательного целого числа А формула\n",
    "```\n",
    "x & 29 ≠ 0 → (x & 12 = 0 → x & А ≠ 0)\n",
    "```\n",
    "тождественно истинна (то есть принимает значение 1 при любом неотрицательном целом значении переменной х)?"
   ]
  },
  {
   "cell_type": "code",
   "execution_count": 1,
   "metadata": {
    "pycharm": {
     "name": "#%%\n"
    }
   },
   "outputs": [
    {
     "name": "stdout",
     "output_type": "stream",
     "text": [
      "17\n"
     ]
    }
   ],
   "source": [
    "def check(A):\n",
    "    for x in range(0, 1000):\n",
    "        if ((x & 29 != 0) <= ((x & 12 == 0) <= (x & A != 0))) == 0:\n",
    "            return False\n",
    "    return True\n",
    "\n",
    "for A in range(0, 100):\n",
    "    if check(A):\n",
    "        print(A)\n",
    "        break\n",
    "\n",
    "# print(check(17))"
   ]
  },
  {
   "cell_type": "markdown",
   "metadata": {
    "pycharm": {
     "name": "#%% md\n"
    }
   },
   "source": [
    "**Задание 15.2** Обозначим через ДЕЛ(n, m) утверждение «натуральное число n делится без остатка на натуральное число m». Для какого наименьшего натурального числа А формула\n",
    "```\n",
    "ДЕЛ(A, 45) ∧ (ДЕЛ(750, x) → (¬ДЕЛ(A, x) → ¬ДЕЛ(120, x)))\n",
    "```\n",
    "тождественно истинна (то есть принимает значение 1 при любом натуральном значении переменной x)?"
   ]
  },
  {
   "cell_type": "code",
   "execution_count": 2,
   "metadata": {
    "pycharm": {
     "name": "#%%\n"
    }
   },
   "outputs": [
    {
     "name": "stdout",
     "output_type": "stream",
     "text": [
      "90\n"
     ]
    }
   ],
   "source": [
    "def ДЕЛ(n, m):\n",
    "    return n % m == 0\n",
    "\n",
    "def check(A):\n",
    "    for x in range(1, 2000):\n",
    "        if (ДЕЛ(A, 45) and (ДЕЛ(750, x)<=((not ДЕЛ(A, x))<=(not ДЕЛ(120, x))))) == 0:\n",
    "            return False\n",
    "    return True\n",
    "\n",
    "for A in range(1, 2000):\n",
    "    if check(A):\n",
    "        print(A)\n",
    "        break"
   ]
  },
  {
   "cell_type": "markdown",
   "metadata": {
    "pycharm": {
     "name": "#%% md\n"
    }
   },
   "source": [
    "**Задание 15.3** Для какого наибольшего целого числа А формула\n",
    "\n",
    "$((x ≤ 9) → (x ⋅ x ≤ A)) ⋀ ((y^2 ≤ A) → (y ≤ 9))$\n",
    "\n",
    "тождественно истинна, то есть принимает значение 1 при любых целых неотрицательных x и y?"
   ]
  },
  {
   "cell_type": "code",
   "execution_count": 3,
   "metadata": {
    "pycharm": {
     "name": "#%%\n"
    }
   },
   "outputs": [
    {
     "name": "stdout",
     "output_type": "stream",
     "text": [
      "81\n",
      "82\n",
      "83\n",
      "84\n",
      "85\n",
      "86\n",
      "87\n",
      "88\n",
      "89\n",
      "90\n",
      "91\n",
      "92\n",
      "93\n",
      "94\n",
      "95\n",
      "96\n",
      "97\n",
      "98\n",
      "99\n"
     ]
    }
   ],
   "source": [
    "def check(A):\n",
    "    for x in range(0, 200):\n",
    "        for y in range(0, 200):\n",
    "            if (((x <= 9) <= (x * x <= A)) and ((y ** 2 <= A) <= (y <= 9))) == 0:\n",
    "                return False\n",
    "    return True\n",
    "\n",
    "for A in range(-200, 1000):\n",
    "    if check(A):\n",
    "        print(A)"
   ]
  },
  {
   "cell_type": "markdown",
   "metadata": {
    "pycharm": {
     "name": "#%% md\n"
    }
   },
   "source": [
    "**Законы алгебры логики**\n",
    "\n",
    "|  \t|  \t|  \t|\n",
    "|---\t|:---:\t|:---:\t|\n",
    "| Закон отрицания \t| $\\overline{\\overline{A}} = A$ \t| $\\overline{\\overline{\\overline{A}}} = \\overline{A}$ \t|\n",
    "| Закон повторения \t| $ A \\wedge A = A $ \t| $ A \\vee A = A $ \t|\n",
    "| Закон поглощения \t| $ A \\wedge (A \\vee B) = A $ \t| $ A \\vee (A \\wedge B) = A $ \t|\n",
    "| Закон де Моргана \t| $\\overline{A \\wedge B} = \\overline{A} \\vee \\overline{B} $ \t| $\\overline{A \\vee B} = \\overline{A} \\wedge \\overline{B} $ \t|\n",
    "| Импликация \t| $ A → B = \\overline{A} \\vee B $ \t| $ A \\wedge B → С = \\overline{A \\wedge B} \\vee С $ \t|"
   ]
  },
  {
   "cell_type": "markdown",
   "metadata": {
    "pycharm": {
     "name": "#%% md\n"
    }
   },
   "source": [
    "**Задание 15.4** На числовой прямой задан отрезок A. Известно, что формула\n",
    "\n",
    "$((x ∈ A) → (x^2 ≤ 81)) ∧ ((y^2 ≤ 36) → (y ∈ A))$\n",
    "\n",
    "тождественно истинна при любых вещественных x и y. Какую наименьшую длину может иметь отрезок A?\n",
    "\n",
    "![задание 15.4](https://github.com/inf-ege/2022/blob/master/03/files/15.4.png)"
   ]
  },
  {
   "cell_type": "markdown",
   "metadata": {
    "pycharm": {
     "name": "#%% md\n"
    }
   },
   "source": [
    "**Задание 15.5** На числовой прямой даны два отрезка: P = [25; 50] и Q = [32; 47]. Укажите наибольшую возможную длину промежутка A, для которого формула\n",
    "\n",
    "$(¬ (x  \\in  A) → (x  \\in  P)) → ((x  \\in  A) → (x  \\in  Q))$\n",
    "\n",
    "тождественно истинна, то есть принимает значение 1 при любом значении переменной х.\n",
    "\n",
    "![задание 15.5](https://github.com/inf-ege/2022/blob/master/03/files/15.5.1.png)\n",
    "![задание 15.5](https://github.com/inf-ege/2022/blob/master/03/files/15.5.2.png)"
   ]
  },
  {
   "cell_type": "markdown",
   "metadata": {
    "pycharm": {
     "name": "#%% md\n"
    }
   },
   "source": [
    "**Задание 15.6** Элементами множеств А, P, Q являются натуральные числа, причём P = {2, 4, 6, 8, 10, 12, 14, 16, 18, 20}, Q = {3, 6, 9, 12, 15, 18, 21, 24, 27, 30}.\n",
    "\n",
    "Известно, что выражение\n",
    "\n",
    "$((x ∈ P) → (x ∈ A)) ∨ (¬(x ∈ A) → ¬(x ∈ Q))$\n",
    "\n",
    "истинно (т. е. принимает значение 1) при любом значении переменной х. Определите наименьшее возможное значение суммы элементов множества A.\n",
    "\n",
    "![задание 15.6](https://github.com/inf-ege/2022/blob/master/03/files/15.6.png)"
   ]
  },
  {
   "cell_type": "markdown",
   "metadata": {
    "pycharm": {
     "name": "#%% md\n"
    }
   },
   "source": [
    "# Графы"
   ]
  },
  {
   "cell_type": "markdown",
   "metadata": {
    "pycharm": {
     "name": "#%% md\n"
    }
   },
   "source": [
    "## Задание 13"
   ]
  },
  {
   "cell_type": "markdown",
   "metadata": {
    "pycharm": {
     "name": "#%% md\n"
    }
   },
   "source": [
    "На рисунке — схема дорог, связывающих города А, Б, В, Г, Д, Е, Ж, З, И, К. По каждой дороге можно двигаться только в одном направлении, указанном стрелкой. Сколько существует различных путей из города А в город К?"
   ]
  },
  {
   "cell_type": "markdown",
   "metadata": {
    "pycharm": {
     "name": "#%% md\n"
    }
   },
   "source": [
    "## Задание 1"
   ]
  },
  {
   "cell_type": "markdown",
   "metadata": {
    "pycharm": {
     "name": "#%% md\n"
    }
   },
   "source": [
    "**Задание 1.1** На&nbsp;рисунке справа схема дорог Н-ского района изображена в&nbsp;виде графа, в&nbsp;таблице содержатся сведения о&nbsp;длинах этих дорог (в&nbsp;километрах). Так как таблицу и&nbsp;схему рисовали независимо друг от&nbsp;друга, то&nbsp;нумерация населённых пунктов в&nbsp;таблице никак не&nbsp;связана с&nbsp;буквенными обозначениями на&nbsp;графе. В&nbsp;таблице в&nbsp;левом столбце указаны номера пунктов, откуда совершается движение, в&nbsp;первой строке&nbsp;&mdash; куда. Определите сумму длин дорог между пунктом&nbsp;А и&nbsp;пунктом&nbsp;Б, и&nbsp;между пунктом&nbsp;Е и&nbsp;пунктом&nbsp;К."
   ]
  },
  {
   "cell_type": "markdown",
   "metadata": {
    "pycharm": {
     "name": "#%% md\n"
    }
   },
   "source": [
    "**Задание 1.2** На&nbsp;рисунке слева изображена схема дорог Н-ского района, в&nbsp;таблице звёздочкой обозначено наличие дороги из&nbsp;одного населённого пункта в&nbsp;другой. Отсутствие звёздочки означает, что такой дороги нет. Определите, какие номера населённых пунктов в&nbsp;таблице могут соответствовать населённым пунктам&nbsp;В и&nbsp;Е на&nbsp;схеме. В&nbsp;ответе запишите эти два номера в&nbsp;возрастающем порядке без пробелов и&nbsp;знаков препинания."
   ]
  },
  {
   "cell_type": "markdown",
   "metadata": {
    "pycharm": {
     "name": "#%% md\n"
    }
   },
   "source": [
    "**Задание 1.3** Между населёнными пунктами A, B, C, D, E, F, G&nbsp;построены дороги, протяжённость которых приведена в&nbsp;таблице. Отсутствие числа в&nbsp;таблице означает, что прямой дороги между пунктами нет.\n",
    "\n",
    "Определите длину кратчайшего пути между пунктами&nbsp;A и&nbsp;G.&nbsp;Передвигаться можно только по&nbsp;указанным дорогам."
   ]
  },
  {
   "cell_type": "markdown",
   "metadata": {
    "pycharm": {
     "name": "#%% md\n"
    }
   },
   "source": [
    "# Word"
   ]
  },
  {
   "cell_type": "markdown",
   "metadata": {
    "pycharm": {
     "name": "#%% md\n"
    }
   },
   "source": [
    "## Задание 10\n",
    "Текст романа Льва Николаевича Толстого «Анна Каренина» представлен в виде файла формата «.docx». Откройте его и определите, сколько раз встречается в тексте отдельное слово «душа» со строчной буквы."
   ]
  }
 ],
 "metadata": {
  "kernelspec": {
   "display_name": "Python 3 (ipykernel)",
   "language": "python",
   "name": "python3"
  },
  "language_info": {
   "codemirror_mode": {
    "name": "ipython",
    "version": 3
   },
   "file_extension": ".py",
   "mimetype": "text/x-python",
   "name": "python",
   "nbconvert_exporter": "python",
   "pygments_lexer": "ipython3",
   "version": "3.10.4"
  },
  "latex_envs": {
   "LaTeX_envs_menu_present": false,
   "autoclose": false,
   "autocomplete": true,
   "bibliofile": "biblio.bib",
   "cite_by": "apalike",
   "current_citInitial": 1,
   "eqLabelWithNumbers": false,
   "eqNumInitial": 1,
   "hotkeys": {
    "equation": "Ctrl-E",
    "itemize": "Ctrl-I"
   },
   "labels_anchors": false,
   "latex_user_defs": false,
   "report_style_numbering": false,
   "user_envs_cfg": false
  }
 },
 "nbformat": 4,
 "nbformat_minor": 1
}
