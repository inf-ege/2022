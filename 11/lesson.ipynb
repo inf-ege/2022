{
 "cells": [
  {
   "cell_type": "markdown",
   "metadata": {
    "pycharm": {
     "is_executing": true,
     "name": "#%%\n"
    }
   },
   "source": [
    "# Программирование"
   ]
  },
  {
   "cell_type": "markdown",
   "metadata": {
    "pycharm": {
     "name": "#%% md\n"
    }
   },
   "source": [
    "**Задание 27.1** На&nbsp;каждом 3-м километре кольцевой автодороги с&nbsp;двусторонним движением установлены контейнеры для мусора. Длина кольцевой автодороги равна 3N&nbsp;километров. Нулевой километр и&nbsp;3N-й километр автодороги находятся в&nbsp;одной точке. Известно количество мусора, которое накапливается ежедневно в&nbsp;каждом из&nbsp;контейнеров. Из&nbsp;каждого пункта мусор вывозит отдельный мусоровоз. Стоимость доставки мусора вычисляется как произведение количества мусора на&nbsp;расстояние от&nbsp;пункта до&nbsp;центра переработки. Центр переработки отходов открыли в&nbsp;одном из&nbsp;пунктов сбора мусора таким образом, чтобы общая стоимость доставки мусора из&nbsp;всех пунктов в&nbsp;этот центр была минимальной.\n",
    "\n",
    "Определите минимальные расходы на&nbsp;доставку мусора в&nbsp;центр переработки отходов.\n",
    "\n",
    "Дано два входных файла (файл&nbsp;A и&nbsp;файл&nbsp;B), каждый из&nbsp;которых в&nbsp;первой строке содержит число&nbsp;N (1 &le; N &le; 10&nbsp;000&nbsp;000) &mdash; количество пунктов сбора мусора на&nbsp;кольцевой автодороге. В&nbsp;каждой из&nbsp;следующих&nbsp;N строк находится число &mdash; количество мусора в&nbsp;контейнере (все числа натуральные, количество мусора в&nbsp;каждом пункте не&nbsp;превышает 1000). Числа указаны в&nbsp;порядке расположения контейнеров на&nbsp;автомагистрали, начиная с&nbsp;первого километра.\n",
    "\n",
    "В&nbsp;ответе укажите два числа: сначала значение искомой величины для файла&nbsp;А, затем &mdash; для файла B.\n",
    "\n",
    "Типовой пример организации данных во&nbsp;входном файле\n",
    "```\n",
    "6\n",
    "8\n",
    "20\n",
    "5\n",
    "13\n",
    "7\n",
    "19\n",
    "```\n",
    "При таких исходных данных, если контейнеры установлены на&nbsp;каждом километре автодороги, необходимо открыть центр переработки в&nbsp;пункте 6. В&nbsp;этом случае сумма транспортных затрат составит: $1 · 7 + 0 · 19 + 1 · 8 + 2 · 20 + 3 · 5 + 2 · 13$.\n",
    "\n",
    "Типовой пример имеет иллюстративный характер. Для выполнения задания используйте данные из&nbsp;прилагаемых файлов.\n",
    "\n",
    "Предупреждение: для обработки файла&nbsp;B не&nbsp;следует использовать переборный алгоритм, вычисляющий сумму для всех возможных вариантов, поскольку написанная по&nbsp;такому алгоритму программа будет выполняться слишком долго."
   ]
  },
  {
   "cell_type": "code",
   "execution_count": 40,
   "metadata": {
    "pycharm": {
     "name": "#%%\n"
    }
   },
   "outputs": [
    {
     "name": "stdout",
     "output_type": "stream",
     "text": [
      "25\n"
     ]
    }
   ],
   "source": [
    "file = open('27.1.A.txt').readlines()[1:]\n",
    "file = list(map(int, file))\n",
    "\n",
    "minS = float('inf')\n",
    "Punkt = 0\n",
    "\n",
    "N = len(file)\n",
    "N2 = len(file) // 2\n",
    "for p in range(0, N):\n",
    "    s = file[(p+N2) % N] * N2\n",
    "    for pi in range(1, N2):\n",
    "        s += (file[(pi+p) % N] + file[(-pi+p) % N]) * pi\n",
    "    if s < minS:\n",
    "        minS = s\n",
    "        Punkt = p + 1\n",
    "\n",
    "print(Punkt)"
   ]
  },
  {
   "cell_type": "markdown",
   "metadata": {
    "pycharm": {
     "name": "#%% md\n"
    }
   },
   "source": [
    "**Задание 27.2** Дана последовательность целых чисел. Необходимо найти максимально возможную сумму её&nbsp;непрерывной подпоследовательности, в&nbsp;которой количество положительных нечётных элементов кратно $k = 30$.\n",
    "\n",
    "Входные данные.\n",
    "Первая строка входного файла содержит целое число N &mdash; общее количество чисел в&nbsp;наборе. Каждая из&nbsp;следующих&nbsp;N строк содержит одно число. Гарантируется, что общая сумма любой выборки заданных чисел не&nbsp;превышает $2 · 10^9$ по&nbsp;абсолютной величине.\n",
    "\n",
    "Вам даны два входных файла (A&nbsp;и&nbsp;B), каждый из&nbsp;которых имеет описанную выше структуру. В&nbsp;ответе укажите два числа: сначала значение искомой суммы для файла&nbsp;A, затем для файла&nbsp;B."
   ]
  },
  {
   "cell_type": "code",
   "execution_count": 41,
   "metadata": {
    "pycharm": {
     "name": "#%%\n"
    }
   },
   "outputs": [
    {
     "name": "stdout",
     "output_type": "stream",
     "text": [
      "90888\n"
     ]
    }
   ],
   "source": [
    "file = open('27.2.A.txt').readlines()[1:]\n",
    "file = list(map(int, file))\n",
    "\n",
    "# maxS = -2 * 10**9\n",
    "maxS = float('-inf')\n",
    "\n",
    "for start in range(0, len(file)):\n",
    "    for end in range(start, len(file)):\n",
    "        seq = file[start:end+1]\n",
    "        count = 0\n",
    "        for el in seq:\n",
    "            if el % 2 != 0:\n",
    "                count += 1\n",
    "        if count % 30 == 0:\n",
    "            maxS = max(maxS, sum(seq))\n",
    "\n",
    "print(maxS)"
   ]
  },
  {
   "cell_type": "markdown",
   "metadata": {
    "pycharm": {
     "name": "#%% md\n"
    }
   },
   "source": [
    "**Задание 27.3** Дана последовательность из&nbsp;N натуральных чисел. Рассматриваются все её&nbsp;непрерывные подпоследовательности, такие что сумма элементов каждой из&nbsp;них кратна k = 43. Найдите среди них подпоследовательность с&nbsp;максимальной суммой, определите её&nbsp;длину. Если таких подпоследовательностей найдено несколько, в&nbsp;ответе укажите количество элементов самой короткой из&nbsp;них.\n",
    "\n",
    "Входные данные\n",
    "Даны два входных файла (файл&nbsp;A и&nbsp;файл&nbsp;B), каждый из&nbsp;которых содержит в&nbsp;первой строке количество чисел&nbsp;N (1 &le; N &le; 10 000 000). Каждая из&nbsp;следующих&nbsp;N строк содержит одно натуральное число, не&nbsp;превышающее 10 000.\n",
    "\n",
    "Пример организации исходных данных во&nbsp;входном файле:\n",
    "```\n",
    "7\n",
    "1\n",
    "3\n",
    "4\n",
    "93\n",
    "8\n",
    "5\n",
    "95\n",
    "```\n",
    "В&nbsp;ответе укажите два числа: сначала значение искомой длины для файла&nbsp;А, затем &mdash; для файла B.\n",
    "\n",
    "Предупреждение: для обработки файла&nbsp;B не&nbsp;следует использовать переборный алгоритм, вычисляющий сумму для всех возможных вариантов, поскольку написанная по&nbsp;такому алгоритму программа будет выполняться слишком долго."
   ]
  },
  {
   "cell_type": "code",
   "execution_count": 18,
   "metadata": {
    "pycharm": {
     "name": "#%%\n"
    }
   },
   "outputs": [
    {
     "name": "stdout",
     "output_type": "stream",
     "text": [
      "185\n"
     ]
    }
   ],
   "source": [
    "file = open('27.3.A.txt').readlines()[1:]\n",
    "file = list(map(int, file))\n",
    "\n",
    "maxS = float('-inf')\n",
    "minL = float('inf')\n",
    "\n",
    "for start in range(0, len(file)):\n",
    "    for end in range(start, len(file)):\n",
    "        seq = file[start:end+1]\n",
    "        if sum(seq) % 43 == 0:\n",
    "            if sum(seq) > maxS or (sum(seq) == maxS and len(seq) < minL):\n",
    "                maxS = sum(seq)\n",
    "                minL = len(seq)\n",
    "\n",
    "print(minL)"
   ]
  }
 ],
 "metadata": {
  "kernelspec": {
   "display_name": "Python 3 (ipykernel)",
   "language": "python",
   "name": "python3"
  },
  "language_info": {
   "codemirror_mode": {
    "name": "ipython",
    "version": 3
   },
   "file_extension": ".py",
   "mimetype": "text/x-python",
   "name": "python",
   "nbconvert_exporter": "python",
   "pygments_lexer": "ipython3",
   "version": "3.10.4"
  },
  "latex_envs": {
   "LaTeX_envs_menu_present": false,
   "autoclose": false,
   "autocomplete": true,
   "bibliofile": "biblio.bib",
   "cite_by": "apalike",
   "current_citInitial": 1,
   "eqLabelWithNumbers": false,
   "eqNumInitial": 1,
   "hotkeys": {
    "equation": "Ctrl-E",
    "itemize": "Ctrl-I"
   },
   "labels_anchors": false,
   "latex_user_defs": false,
   "report_style_numbering": false,
   "user_envs_cfg": false
  }
 },
 "nbformat": 4,
 "nbformat_minor": 1
}
