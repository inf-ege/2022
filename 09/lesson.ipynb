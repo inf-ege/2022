{
 "cells": [
  {
   "cell_type": "markdown",
   "metadata": {
    "collapsed": true,
    "pycharm": {
     "is_executing": true,
     "name": "#%%\n"
    }
   },
   "source": [
    "# Целочисленные алгоритмы"
   ]
  },
  {
   "cell_type": "markdown",
   "metadata": {},
   "source": [
    "## Задание 25"
   ]
  },
  {
   "cell_type": "markdown",
   "metadata": {},
   "source": [
    "**Задание 25.1** Напишите программу, которая ищет среди целых чисел, принадлежащих числовому отрезку [174&nbsp;457;&nbsp;174&nbsp;505], числа, имеющие ровно два различных натуральных делителя, не&nbsp;считая единицы и&nbsp;самого числа. Для каждого найденного числа запишите эти два делителя в&nbsp;два соседних столбца на&nbsp;экране с&nbsp;новой строки в&nbsp;порядке возрастания произведения этих двух делителей. Делители в&nbsp;строке также должны следовать в&nbsp;порядке возрастания.\n",
    "\n",
    "Например, в&nbsp;диапазоне [5;&thinsp;9] ровно два различных натуральных делителя имеют числа 6&nbsp;и&nbsp;8, поэтому для этого диапазона вывод на&nbsp;экране должна содержать следующие значения:\n",
    "```\n",
    "2 3\n",
    "2 4\n",
    "```"
   ]
  },
  {
   "cell_type": "code",
   "execution_count": 1,
   "metadata": {},
   "outputs": [
    {
     "name": "stdout",
     "output_type": "stream",
     "text": [
      "149 1171\n",
      "5 34897\n",
      "211 827\n",
      "2 87251\n"
     ]
    }
   ],
   "source": [
    "for n in range(174_475, 174_505+1):\n",
    "    D = set()\n",
    "    for d in range(2, int(n ** .5 + 1)):\n",
    "        if n % d == 0:\n",
    "            D.add(d)\n",
    "            D.add(n // d)\n",
    "    if len(D) == 2:\n",
    "        print(*sorted(D))"
   ]
  },
  {
   "cell_type": "markdown",
   "metadata": {},
   "source": [
    "**Задание 25.2** Напишите программу, которая ищет среди целых чисел, принадлежащих числовому отрезку [245&nbsp;690;&nbsp;245&nbsp;756] простые числа. Выведите на&nbsp;экран все найденные простые числа в&nbsp;порядке возрастания, слева от&nbsp;каждого числа выведите его порядковый номер в&nbsp;последовательности. Каждая пара чисел должна быть выведена в&nbsp;отдельной строке."
   ]
  },
  {
   "cell_type": "code",
   "execution_count": 2,
   "metadata": {},
   "outputs": [
    {
     "name": "stdout",
     "output_type": "stream",
     "text": [
      "22 245711\n",
      "30 245719\n",
      "34 245723\n",
      "52 245741\n",
      "58 245747\n",
      "64 245753\n"
     ]
    }
   ],
   "source": [
    "for n in range(245_690, 245_756+1):\n",
    "    D = set()\n",
    "    for d in range(2, int(n ** .5 + 1)):\n",
    "        if n % d == 0:\n",
    "            D.add(d)\n",
    "            D.add(n // d)\n",
    "    if len(D) == 0:\n",
    "        print(n - 245_690 + 1, n)"
   ]
  },
  {
   "cell_type": "markdown",
   "metadata": {},
   "source": [
    "**Задание 25.3** Напишите программу, которая ищет среди целых чисел, принадлежащих числовому отрезку [110&nbsp;203;&nbsp;110&nbsp;245], числа, имеющие ровно четыре различных чётных натуральных делителя (при этом количество нечётных делителей может быть любым). Для каждого найденного числа запишите эти четыре делителя в&nbsp;четыре соседних столбца на&nbsp;экране с&nbsp;новой строки. Делители в&nbsp;строке должны следовать в&nbsp;порядке возрастания."
   ]
  },
  {
   "cell_type": "code",
   "execution_count": 3,
   "metadata": {},
   "outputs": [
    {
     "name": "stdout",
     "output_type": "stream",
     "text": [
      "2 4 55102 110204\n",
      "2 14 15746 110222\n",
      "2 6 36742 110226\n",
      "2 22 10022 110242\n"
     ]
    }
   ],
   "source": [
    "for n in range(110_203, 110_245+1):\n",
    "    D = set()\n",
    "    for d in range(1, int(n ** .5 + 1)):\n",
    "        if n % d == 0:\n",
    "            if d % 2 == 0:\n",
    "                D.add(d)\n",
    "            if n // d % 2 == 0:\n",
    "                D.add(n // d)\n",
    "    if len(D) == 4:\n",
    "        print(*sorted(D))"
   ]
  },
  {
   "cell_type": "markdown",
   "metadata": {},
   "source": [
    "**Задание 25.4** Назовём нетривиальным делителем натурального числа его делитель, не&nbsp;равный единице и&nbsp;самому числу. Например, у&nbsp;числа 6&nbsp;есть два нетривиальных делителя: 2&nbsp;и&nbsp;3. Найдите все натуральные числа, принадлежащие отрезку [123&nbsp;456&nbsp;789;&nbsp;223&nbsp;456&nbsp;789] и&nbsp;имеющие ровно три нетривиальных делителя. Для каждого найденного числа запишите в&nbsp;ответе его наибольший нетривиальный делитель. Ответы расположите в&nbsp;порядке возрастания."
   ]
  },
  {
   "cell_type": "code",
   "execution_count": 4,
   "metadata": {},
   "outputs": [
    {
     "name": "stdout",
     "output_type": "stream",
     "text": [
      "1225043\n",
      "1295029\n",
      "1442897\n"
     ]
    }
   ],
   "source": [
    "# print(123_456_789 ** .5)\n",
    "# print(11112 ** 2)\n",
    "a = 11112\n",
    "while a ** 2 <= 223_456_789:\n",
    "    n = a ** 2\n",
    "    D = set()\n",
    "    for d in range(2, a+1):\n",
    "        if n % d == 0:\n",
    "            D.add(d)\n",
    "            D.add(n // d)\n",
    "    if len(D) == 3:\n",
    "        print(max(D))\n",
    "    a += 1"
   ]
  },
  {
   "cell_type": "markdown",
   "metadata": {},
   "source": [
    "**Задание 25.5** Найдите все натуральные числа, принадлежащие отрезку [101&nbsp;000&nbsp;000;&nbsp;102&nbsp;000&nbsp;000], у&nbsp;которых ровно три различных чётных делителя (при этом количество нечётных делителей может быть любым). В&nbsp;ответе перечислите найденные числа в&nbsp;порядке возрастания."
   ]
  },
  {
   "cell_type": "code",
   "execution_count": 5,
   "metadata": {},
   "outputs": [
    {
     "name": "stdout",
     "output_type": "stream",
     "text": [
      "101018898\n",
      "101075762\n",
      "101132642\n",
      "101189538\n",
      "101246450\n",
      "101303378\n",
      "101360322\n",
      "101417282\n",
      "101474258\n",
      "101531250\n",
      "101588258\n",
      "101645282\n",
      "101702322\n",
      "101759378\n",
      "101816450\n",
      "101873538\n",
      "101930642\n",
      "101987762\n"
     ]
    }
   ],
   "source": [
    "# print(102_000_000 ** .5)\n",
    "primes = []\n",
    "for n in range(3, 10100+1):\n",
    "    D = set()\n",
    "    for d in range(2, int(n ** .5 + 1)):\n",
    "        if n % 2 == 0:\n",
    "            D.add(d)\n",
    "            D.add(n // d)\n",
    "    if len(D) == 0:\n",
    "        primes.append(n)\n",
    "\n",
    "for p in primes:\n",
    "    n = 2 * p ** 2\n",
    "    if 101_000_000 <= n <= 102_000_000:\n",
    "        print(n)"
   ]
  },
  {
   "cell_type": "markdown",
   "metadata": {},
   "source": [
    "**Задача 25.5*** Три нечетных делителя, четных — любое количество"
   ]
  },
  {
   "cell_type": "code",
   "execution_count": null,
   "metadata": {},
   "outputs": [],
   "source": [
    "primes = []\n",
    "for n in range(3, 10100+1):\n",
    "    D = set()\n",
    "    for d in range(2, int(n ** .5 + 1)):\n",
    "        if n % 2 == 0:\n",
    "            D.add(d)\n",
    "            D.add(n // d)\n",
    "    if len(D) == 0:\n",
    "        primes.append(n)\n",
    "\n",
    "answer = []\n",
    "for p in primes:\n",
    "    a = 0\n",
    "    n = 2 ** a * p ** 2\n",
    "    while n <= 102_000_000:\n",
    "        if 101_000_000 <= n <= 102_000_000:\n",
    "            answer.append(n)\n",
    "        a += 1\n",
    "        n = 2 ** a * p ** 2\n",
    "        \n",
    "for a in answer:\n",
    "    print(a)"
   ]
  },
  {
   "cell_type": "markdown",
   "metadata": {},
   "source": [
    "**Задание 25.6** Найдите все натуральные числа&nbsp;N, принадлежащие отрезку [400&nbsp;000&nbsp;000;&nbsp;600&nbsp;000&nbsp;000], которые можно представить в&nbsp;виде $N = 2^m · 3^n$, где m &mdash; чётное число, n &mdash; нечётное число. В&nbsp;ответе запишите все найденные числа в&nbsp;порядке возрастания."
   ]
  },
  {
   "cell_type": "code",
   "execution_count": 6,
   "metadata": {},
   "outputs": [
    {
     "name": "stdout",
     "output_type": "stream",
     "text": [
      "408146688\n",
      "452984832\n",
      "516560652\n",
      "573308928\n"
     ]
    }
   ],
   "source": [
    "# m = 0\n",
    "# while 2 ** m <= 600_000_000:\n",
    "#     m += 1\n",
    "# print(m)\n",
    "\n",
    "answers = []\n",
    "for m in range(0, 40, 2):\n",
    "    for n in range(1, 40, 2):\n",
    "        N = 2 ** m * 3 ** n\n",
    "        if 400_000_000 <= N <= 600_000_000:\n",
    "            answers.append(N)\n",
    "\n",
    "for answer in sorted(answers):\n",
    "    print(answer)"
   ]
  },
  {
   "cell_type": "markdown",
   "metadata": {},
   "source": [
    "**Задание 25.7** Найдите 5&nbsp;чисел больших 500000, таких, что среди их&nbsp;делителей есть число, оканчивающееся на&nbsp;8, при этом этот делитель не&nbsp;равен 8&nbsp;и&nbsp;самому числу. В&nbsp;качестве ответа приведите 5&nbsp;наименьших чисел, соответствующих условию.\n",
    "\n",
    "Формат вывода: для каждого из&nbsp;5&nbsp;таких найденных чисел в&nbsp;отдельной строке сначала выводится само число, затем минимальный делитель, оканчивающийся на&nbsp;8, не&nbsp;равный 8&nbsp;и&nbsp;самому числу."
   ]
  },
  {
   "cell_type": "code",
   "execution_count": 7,
   "metadata": {},
   "outputs": [
    {
     "name": "stdout",
     "output_type": "stream",
     "text": [
      "500002 178\n",
      "500004 18\n",
      "500016 48\n",
      "500018 58\n",
      "500020 4348\n"
     ]
    }
   ],
   "source": [
    "count = 0\n",
    "n = 500_000\n",
    "\n",
    "while count < 5:\n",
    "    D = set()\n",
    "    for d in range(2, int(n ** .5 + 1)):\n",
    "        if n % d == 0:\n",
    "            if d != 8 and d % 10 == 8:\n",
    "                D.add(d)\n",
    "            if n // d != 8 and n // d % 10 == 8:\n",
    "                D.add(n // d)\n",
    "    if len(D) > 0:\n",
    "        count += 1\n",
    "        print(n, min(D))\n",
    "    n += 1"
   ]
  },
  {
   "cell_type": "code",
   "execution_count": 8,
   "metadata": {},
   "outputs": [
    {
     "name": "stdout",
     "output_type": "stream",
     "text": [
      "500002 178\n",
      "500004 18\n",
      "500016 48\n",
      "500018 58\n",
      "500020 4348\n"
     ]
    }
   ],
   "source": [
    "# Второй вариант решения\n",
    "a = 500_000\n",
    "for n in range(a, a + 21):\n",
    "    D = set()\n",
    "    for d in range(2, int(n ** .5 + 1)):\n",
    "        if n % d == 0:\n",
    "            if d != 8 and d % 10 == 8:\n",
    "                D.add(d)\n",
    "            if n // d != 8 and n // d % 10 == 8:\n",
    "                D.add(n // d)\n",
    "    if len(D) > 0:\n",
    "        print(n, min(D))"
   ]
  },
  {
   "cell_type": "markdown",
   "metadata": {},
   "source": [
    "**Задание 25.8** Рассмотрим произвольное натуральное число, представим его всеми возможными способами в&nbsp;виде произведения двух натуральных чисел и&nbsp;найдём для каждого такого произведения разность сомножителей. Например, для числа 16&nbsp;получим: $16 = 16 · 1 = 8 · 2 = 4 · 4$, множество разностей содержит числа 15, 6&nbsp;и&nbsp;0. Найдите все натуральные числа, принадлежащие отрезку [2&nbsp;000&nbsp;000;&nbsp;3&nbsp;000&nbsp;000], у&nbsp;которых составленное описанным способом множество разностей будет содержать не&nbsp;меньше трёх элементов, не&nbsp;превышающих 115. В&nbsp;ответе перечислите найденные числа в&nbsp;порядке возрастания."
   ]
  },
  {
   "cell_type": "code",
   "execution_count": 9,
   "metadata": {},
   "outputs": [
    {
     "name": "stdout",
     "output_type": "stream",
     "text": [
      "2053440\n",
      "2098080\n",
      "2328480\n",
      "2638944\n"
     ]
    }
   ],
   "source": [
    "for n in range(2_000_000, 3_000_000+1):\n",
    "    D = set()\n",
    "    sqrt = int(n ** .5)\n",
    "    for d in range(sqrt-115, sqrt+1):\n",
    "        if n % d == 0:\n",
    "            if n // d - d <= 115:\n",
    "                D.add(n // d - d)\n",
    "    if len(D) >= 3:\n",
    "        print(n)"
   ]
  },
  {
   "cell_type": "markdown",
   "metadata": {},
   "source": [
    "**Задание 25.9** Назовём маской числа последовательность цифр, в&nbsp;которой также могут встречаться следующие символы:  \n",
    "&mdash;&nbsp;символ $?$ означает ровно одну произвольную цифру;  \n",
    "&mdash;&nbsp;символ $*$ означает любую последовательность цифр произвольной длины; в&nbsp;том числе $*$ может задавать и&nbsp;пустую последовательность.\n",
    "\n",
    "Найдите 7&nbsp;наибольших чисел, меньших $10^7$, которые кратны 217 и&nbsp;удовлетворяют маске $14?4*$. Выведите эти числа в&nbsp;порядке возрастания, справа от&nbsp;каждого числа выведите сумму его нечётных делителей."
   ]
  },
  {
   "cell_type": "code",
   "execution_count": 10,
   "metadata": {},
   "outputs": [
    {
     "name": "stdout",
     "output_type": "stream",
     "text": [
      "1494913 1785088\n",
      "1494696 306432\n",
      "1494479 1806336\n",
      "1494262 964608\n",
      "1494045 3345408\n",
      "1484931 2336768\n",
      "1484714 958464\n"
     ]
    },
    {
     "ename": "NameError",
     "evalue": "name 'stop' is not defined",
     "output_type": "error",
     "traceback": [
      "\u001b[0;31m---------------------------------------------------------------------------\u001b[0m",
      "\u001b[0;31mNameError\u001b[0m                                 Traceback (most recent call last)",
      "Input \u001b[0;32mIn [10]\u001b[0m, in \u001b[0;36m<cell line: 3>\u001b[0;34m()\u001b[0m\n\u001b[1;32m     15\u001b[0m     \u001b[38;5;28mprint\u001b[39m(n, \u001b[38;5;28msum\u001b[39m(D))\n\u001b[1;32m     16\u001b[0m \u001b[38;5;28;01mif\u001b[39;00m count \u001b[38;5;241m==\u001b[39m \u001b[38;5;241m7\u001b[39m:\n\u001b[0;32m---> 17\u001b[0m     \u001b[43mstop\u001b[49m\n",
      "\u001b[0;31mNameError\u001b[0m: name 'stop' is not defined"
     ]
    }
   ],
   "source": [
    "# print(1494999 < 10**7)\n",
    "count = 0\n",
    "for a in range(9, -1, -1):\n",
    "    for b in range(999, -1, -1):\n",
    "        n = int(f'14{a}4{b:03d}')\n",
    "        D = set()\n",
    "        if n % 217 == 0:\n",
    "            for d in range(1, int(n ** .5 + 1)):\n",
    "                if n % d == 0:\n",
    "                    if d % 2 != 0:\n",
    "                        D.add(d)\n",
    "                    if n // d % 2 != 0:\n",
    "                        D.add(n // d)\n",
    "            count += 1\n",
    "            print(n, sum(D))\n",
    "        if count == 7:\n",
    "            stop # exit()"
   ]
  },
  {
   "cell_type": "markdown",
   "metadata": {},
   "source": [
    "**Задание 25.10** Найдите наименьшие 7&nbsp;чисел, удовлетворяющих маске $?6*6*?6$ и&nbsp;при этом кратных 6, 7&nbsp;и&nbsp;8. Выведите эти числа в&nbsp;порядке возрастания, справа от&nbsp;каждого числа выведите сумму его делителей."
   ]
  },
  {
   "cell_type": "code",
   "execution_count": 11,
   "metadata": {},
   "outputs": [
    {
     "name": "stdout",
     "output_type": "stream",
     "text": [
      "56616 162240\n",
      "66696 191040\n",
      "166656 523264\n",
      "266616 862680\n",
      "366576 1083264\n",
      "466536 1333440\n",
      "566496 1847664\n",
      "666456 1904640\n",
      "766416 2263744\n",
      "866376 2787840\n",
      "966336 2926080\n"
     ]
    }
   ],
   "source": [
    "# ?66?6\n",
    "for a in range(1, 9+1):\n",
    "    for b in range(0, 9+1):\n",
    "        n = int(f'{a}66{b}6')\n",
    "        if n % 6 == 0 and n % 7 == 0 and n % 8 == 0:\n",
    "            D = set()\n",
    "            for d in range(1, int(n ** .5 + 1)):\n",
    "                if n % d == 0:\n",
    "                    D.add(d)\n",
    "                    D.add(n // d)\n",
    "            print(n, sum(D))\n",
    "\n",
    "# ?66??6\n",
    "for a in range(1, 9+1):\n",
    "    for b in range(0, 99+1):\n",
    "        n = int(f'{a}66{b:02d}6')\n",
    "        if n % 6 == 0 and n % 7 == 0 and n % 8 == 0:\n",
    "            D = set()\n",
    "            for d in range(1, int(n ** .5 + 1)):\n",
    "                if n % d == 0:\n",
    "                    D.add(d)\n",
    "                    D.add(n // d)\n",
    "            print(n, sum(D))\n"
   ]
  },
  {
   "cell_type": "markdown",
   "metadata": {},
   "source": [
    "## Задание 17"
   ]
  },
  {
   "cell_type": "markdown",
   "metadata": {},
   "source": [
    "**Задание 17.1** В&nbsp;файле содержится последовательность целых чисел. Элементы последовательности могут принимать целые значения от&nbsp;&minus;10&nbsp;000 до&nbsp;10&nbsp;000&nbsp;включительно. Определите и&nbsp;запишите в&nbsp;ответе сначала количество пар элементов последовательности, в&nbsp;которых хотя&nbsp;бы одно число делится на&nbsp;3, затем максимальную из&nbsp;сумм элементов таких пар. В&nbsp;данной задаче под парой подразумевается два идущих подряд элемента последовательности. \n",
    "\n",
    "Например, для последовательности из&nbsp;пяти элементов: 6; 2; 9; &mdash;3; 6 &mdash; ответ: 4 11."
   ]
  },
  {
   "cell_type": "code",
   "execution_count": 12,
   "metadata": {},
   "outputs": [
    {
     "name": "stdout",
     "output_type": "stream",
     "text": [
      "2802 1990\n"
     ]
    }
   ],
   "source": [
    "file = open('17.1.txt').readlines()\n",
    "\n",
    "count = 0\n",
    "max_sum = -20_000\n",
    "\n",
    "for i in range(1, len(file)):\n",
    "    a = int(file[i])\n",
    "    b = int(file[i-1])\n",
    "    if a * b % 3 == 0:\n",
    "        count += 1\n",
    "        max_sum = max(max_sum, a+b)\n",
    "\n",
    "print(count, max_sum)"
   ]
  },
  {
   "cell_type": "markdown",
   "metadata": {},
   "source": [
    "**Задание 17.2** В&nbsp;файле содержится последовательность из&nbsp;10&nbsp;000 целых положительных чисел. Каждое число не&nbsp;превышает 10&nbsp;000. Определите и&nbsp;запишите в&nbsp;ответе сначала количество пар элементов последовательности, разность которых четна и&nbsp;хотя&nbsp;бы одно из&nbsp;чисел делится на&nbsp;31, затем максимальную из&nbsp;сумм элементов таких пар. В&nbsp;данной задаче под парой подразумевается два различных элемента последовательности. Порядок элементов в&nbsp;паре не&nbsp;важен."
   ]
  },
  {
   "cell_type": "code",
   "execution_count": 13,
   "metadata": {},
   "outputs": [
    {
     "name": "stdout",
     "output_type": "stream",
     "text": [
      "1569269 19982\n"
     ]
    }
   ],
   "source": [
    "# долгое решение\n",
    "file = open('17.2.txt').readlines()\n",
    "\n",
    "count = 0\n",
    "max_sum = 0\n",
    "\n",
    "for i in range(len(file)):\n",
    "    for j in range(i+1, len(file)):\n",
    "        a = int(file[i])\n",
    "        b = int(file[j])\n",
    "        if (a - b) % 2 == 0 and (a % 31 == 0 or b % 31 == 0):\n",
    "            count += 1\n",
    "            max_sum = max(max_sum, a + b)\n",
    "            \n",
    "print(count, max_sum)"
   ]
  },
  {
   "cell_type": "code",
   "execution_count": 14,
   "metadata": {},
   "outputs": [
    {
     "name": "stdout",
     "output_type": "stream",
     "text": [
      "1569269 19982\n"
     ]
    }
   ],
   "source": [
    "# быстрое решение\n",
    "file = open('17.2.txt').readlines()\n",
    "\n",
    "even = []\n",
    "odd = []\n",
    "\n",
    "for line in file:\n",
    "    if int(line) % 2 == 0:\n",
    "        even.append(int(line))\n",
    "    else:\n",
    "        odd.append(int(line))\n",
    "\n",
    "count = 0\n",
    "max_sum = 0\n",
    "\n",
    "for i in range(len(even)):\n",
    "    for j in range(i+1, len(even)):\n",
    "        a = even[i]\n",
    "        b = even[j]\n",
    "        if (a - b) % 2 == 0 and (a % 31 == 0 or b % 31 == 0):\n",
    "            count += 1\n",
    "            max_sum = max(max_sum, a + b)\n",
    "            \n",
    "for i in range(len(odd)):\n",
    "    for j in range(i+1, len(odd)):\n",
    "        a = odd[i]\n",
    "        b = odd[j]\n",
    "        if (a - b) % 2 == 0 and (a % 31 == 0 or b % 31 == 0):\n",
    "            count += 1\n",
    "            max_sum = max(max_sum, a + b)\n",
    "            \n",
    "print(count, max_sum)"
   ]
  }
 ],
 "metadata": {
  "kernelspec": {
   "display_name": "Python 3 (ipykernel)",
   "language": "python",
   "name": "python3"
  },
  "language_info": {
   "codemirror_mode": {
    "name": "ipython",
    "version": 3
   },
   "file_extension": ".py",
   "mimetype": "text/x-python",
   "name": "python",
   "nbconvert_exporter": "python",
   "pygments_lexer": "ipython3",
   "version": "3.10.4"
  },
  "latex_envs": {
   "LaTeX_envs_menu_present": false,
   "autoclose": false,
   "autocomplete": true,
   "bibliofile": "biblio.bib",
   "cite_by": "apalike",
   "current_citInitial": 1,
   "eqLabelWithNumbers": false,
   "eqNumInitial": 1,
   "hotkeys": {
    "equation": "Ctrl-E",
    "itemize": "Ctrl-I"
   },
   "labels_anchors": false,
   "latex_user_defs": false,
   "report_style_numbering": false,
   "user_envs_cfg": false
  }
 },
 "nbformat": 4,
 "nbformat_minor": 1
}
