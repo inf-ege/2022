{
 "cells": [
  {
   "cell_type": "markdown",
   "metadata": {
    "pycharm": {
     "is_executing": true,
     "name": "#%%\n"
    }
   },
   "source": [
    "# Сортировка и матрицы"
   ]
  },
  {
   "cell_type": "markdown",
   "metadata": {
    "pycharm": {
     "name": "#%% md\n"
    }
   },
   "source": [
    "**Задание 26.1** Системный администратор раз в&nbsp;неделю создаёт архив пользовательских файлов. Однако объём диска, куда он&nbsp;помещает архив, может быть меньше, чем суммарный объём архивируемых файлов. Известно, какой объём занимает файл каждого пользователя.\n",
    "\n",
    "По&nbsp;заданной информации об&nbsp;объёме файлов пользователей и&nbsp;свободном объёме на&nbsp;архивном диске определите максимальное число пользователей, чьи файлы можно сохранить в&nbsp;архиве, а&nbsp;также максимальный размер имеющегося файла, который может быть сохранён в&nbsp;архиве, при условии, что сохранены файлы максимально возможного числа пользователей.\n",
    "\n",
    "Входные данные.\n",
    "В&nbsp;первой строке входного файла находятся два числа: S &mdash; размер свободного места на&nbsp;диске (натуральное число, не&nbsp;превышающее 10&nbsp;000) и&nbsp;N &mdash; количество пользователей (натуральное число, не&nbsp;превышающее 1000). В&nbsp;следующих&nbsp;N строках находятся значения объёмов файлов каждого пользователя (все числа натуральные, не&nbsp;превышающие 100), каждое в&nbsp;отдельной строке.\n",
    "\n",
    "Запишите в&nbsp;ответе два числа: сначала наибольшее число пользователей, чьи файлы могут быть помещены в&nbsp;архив, затем максимальный размер имеющегося файла, который может быть сохранён в&nbsp;архиве, при условии, что сохранены файлы максимально возможного числа пользователей.\n",
    "\n",
    "Пример входного файла:\n",
    "```\n",
    "100 4\n",
    "80\n",
    "30\n",
    "50\n",
    "40\n",
    "```\n",
    "При таких исходных данных можно сохранить файлы максимум двух пользователей. Возможные объёмы этих двух файлов 30&nbsp;и&nbsp;40, 30&nbsp;и&nbsp;50&nbsp;или 40&nbsp;и&nbsp;50. Наибольший объём файла из&nbsp;перечисленных пар &mdash; 50, поэтому ответ для приведённого примера:\n",
    "```\n",
    "2 50\n",
    "```"
   ]
  },
  {
   "cell_type": "code",
   "execution_count": 17,
   "metadata": {
    "pycharm": {
     "name": "#%%\n"
    }
   },
   "outputs": [
    {
     "name": "stdout",
     "output_type": "stream",
     "text": [
      "568 50\n"
     ]
    }
   ],
   "source": [
    "file = open('26.1.txt')\n",
    "\n",
    "SMax, N = map(int, file.readline().split())\n",
    "numbers = []\n",
    "\n",
    "for line in file:\n",
    "    numbers.append(int(line))\n",
    "\n",
    "numbers = sorted(numbers)    \n",
    "\n",
    "count = 0\n",
    "s = 0\n",
    "\n",
    "while s <= SMax:\n",
    "    s += numbers[count]\n",
    "    count += 1\n",
    "    if count == len(numbers): break\n",
    "\n",
    "count -= 1\n",
    "s -= numbers[count]\n",
    "s -= numbers[count - 1]\n",
    "\n",
    "for index in range(count, len(numbers)):\n",
    "    if s + numbers[index] > SMax:\n",
    "        break\n",
    "\n",
    "print(count, numbers[index-1])"
   ]
  },
  {
   "cell_type": "markdown",
   "metadata": {
    "pycharm": {
     "name": "#%% md\n"
    }
   },
   "source": [
    "**Задание 26.2** Продавец предоставляет покупателю, делающему большую закупку, скидку по&nbsp;следующим правилам:\n",
    "\n",
    "&mdash;&nbsp;на&nbsp;каждый второй товар стоимостью больше 50&nbsp;рублей предоставляется скидка 25%;  \n",
    "&mdash;&nbsp;общая стоимость покупки со&nbsp;скидкой округляется вверх до&nbsp;целого числа рублей;  \n",
    "&mdash;&nbsp;порядок товаров в&nbsp;списке определяет продавец и&nbsp;делает это так, чтобы общая сумма скидки была наименьшей.\n",
    "\n",
    "По&nbsp;известной стоимости каждого товара в&nbsp;покупке необходимо определить общую стоимость покупки с&nbsp;учётом скидки и&nbsp;стоимость самого дорогого товара, на&nbsp;который будет предоставлена скидка.\n",
    "\n",
    "Входные данные.\n",
    "Первая строка входного файла содержит число N &mdash; общее количество купленных товаров. Каждая из&nbsp;следующих&nbsp;N строк содержит одно целое число &mdash; стоимость товара в&nbsp;рублях.\n",
    "\n",
    "В&nbsp;ответе запишите два целых числа: сначала общую стоимость покупки с&nbsp;учётом скидки, затем стоимость самого дорогого товара, на&nbsp;который будет предоставлена скидка.\n",
    "\n",
    "Пример входного файла:\n",
    "```\n",
    "6\n",
    "125\n",
    "50\n",
    "490\n",
    "215\n",
    "144\n",
    "320\n",
    "```\n",
    "В&nbsp;данном случае товар стоимостью 50 не&nbsp;участвует в&nbsp;определении скидки, остальные товары продавцу выгодно расположить в&nbsp;таком порядке цен: 490, 125, 215, 144, 320. Тогда скидка предоставляется на&nbsp;товары стоимостью 125 и&nbsp;144. Стоимость этих двух товаров со&nbsp;скидкой составит 201,75&nbsp;руб., после округления &mdash; 202&nbsp;руб. Общая стоимость покупки составит:\n",
    "\n",
    "$$50 + 490 + 215 + 320 + 202 = 1277 руб.$$\n",
    "\n",
    "Самый дорогой товар, на&nbsp;который будет получена скидка, стоит 144&nbsp;руб. В&nbsp;ответе нужно записать числа 1277 и&nbsp;144."
   ]
  },
  {
   "cell_type": "code",
   "execution_count": 41,
   "metadata": {
    "pycharm": {
     "name": "#%%\n"
    }
   },
   "outputs": [
    {
     "name": "stdout",
     "output_type": "stream",
     "text": [
      "469784 511\n"
     ]
    }
   ],
   "source": [
    "file = open('26.2.txt').readlines()[1:]\n",
    "\n",
    "sum_low_cost = 0\n",
    "maybe_sale_good = []\n",
    "\n",
    "for line in file:\n",
    "    price = int(line)\n",
    "    if price <= 50:\n",
    "        sum_low_cost += price\n",
    "    else:\n",
    "        maybe_sale_good.append(price)\n",
    "\n",
    "maybe_sale_good = sorted(maybe_sale_good)\n",
    "sale = maybe_sale_good[:len(maybe_sale_good) // 2]\n",
    "sale_many = abs(int(-sum(sale) * .75 // 1))\n",
    "# if sale % 1 != 0: \n",
    "#     sale += 1\n",
    "# sale = int(sale)\n",
    "no_sale = maybe_sale_good[len(maybe_sale_good) // 2:]\n",
    "\n",
    "print(sale_many + sum_low_cost + sum(no_sale), sale[-1])"
   ]
  },
  {
   "cell_type": "markdown",
   "metadata": {
    "pycharm": {
     "name": "#%% md\n"
    }
   },
   "source": [
    "**Задание 26.3** Предприятие производит оптовую закупку некоторых изделий&nbsp;A и&nbsp;B, на&nbsp;которую выделена определённая сумма денег. У&nbsp;поставщика есть в&nbsp;наличии партии этих изделий различных модификаций по&nbsp;различной цене. На&nbsp;выделенные деньги необходимо приобрести как можно больше изделий&nbsp;B независимо от&nbsp;модификации. Если у&nbsp;поставщика закончатся изделия&nbsp;B, то&nbsp;на&nbsp;оставшиеся деньги необходимо приобрести как можно больше изделий A.&nbsp;Известны выделенная для закупки сумма, а&nbsp;также количество и&nbsp;цена различных модификаций данных изделий у&nbsp;поставщика. Необходимо определить, сколько будет закуплено изделий&nbsp;A и&nbsp;какая сумма останется неиспользованной.\n",
    "\n",
    "Входные данные.\n",
    "Первая строка входного файла содержит два целых числа: N &mdash; общее количество партий изделий у&nbsp;поставщика и&nbsp;M &mdash; сумма выделенных на&nbsp;закупку денег (в&nbsp;рублях). Каждая из&nbsp;следующих&nbsp;N строк описывает одну партию и&nbsp;содержит два целых числа (цена одного изделия в&nbsp;рублях и&nbsp;количество изделий в&nbsp;партии) и&nbsp;один символ (латинская буква&nbsp;A или&nbsp;B), определяющий тип изделия. Все данные в&nbsp;строках входного файла отделены одним пробелом.\n",
    "\n",
    "В&nbsp;ответе запишите два целых числа: сначала количество закупленных изделий типа&nbsp;A, затем оставшуюся неиспользованной сумму денег.\n",
    "\n",
    "Пример входного файла:\n",
    "```\n",
    "4 1000\n",
    "30 8 A\n",
    "50 12 B\n",
    "40 14 A\n",
    "20 10 B\n",
    "```\n",
    "В&nbsp;данном случае сначала нужно купить изделия B: 10&nbsp;изделий по&nbsp;20&nbsp;рублей и&nbsp;12&nbsp;изделий по&nbsp;50&nbsp;рублей. На&nbsp;это будет потрачено 800&nbsp;рублей. На&nbsp;оставшиеся 200 рублей можно купить 6&nbsp;изделий&nbsp;A по&nbsp;30&nbsp;рублей. Таким образом, всего будет куплено 6&nbsp;изделий&nbsp;A и&nbsp;останется 20&nbsp;рублей. В&nbsp;ответе надо записать числа 6&nbsp;и&nbsp;20."
   ]
  },
  {
   "cell_type": "code",
   "execution_count": 9,
   "metadata": {
    "pycharm": {
     "name": "#%%\n"
    }
   },
   "outputs": [
    {
     "name": "stdout",
     "output_type": "stream",
     "text": [
      "7165 245\n"
     ]
    }
   ],
   "source": [
    "file = open('26.3.txt')\n",
    "N, M = map(int, file.readline().split())\n",
    "\n",
    "goods = []\n",
    "for line in file:\n",
    "    price, count, gtype = line.split()\n",
    "    price, count = int(price), int(count)\n",
    "    if gtype == 'A': gtype = 1\n",
    "    else: gtype = 0\n",
    "    goods.append((gtype, price, count, price * count))\n",
    "    \n",
    "goods = sorted(goods)\n",
    "amount = 0\n",
    "typeA = 0\n",
    "\n",
    "for index in range(len(goods)):\n",
    "    if amount + goods[index][3] <= M:\n",
    "        amount += goods[index][3]\n",
    "        if goods[index][0] == 1:\n",
    "            typeA += goods[index][2]\n",
    "    else:\n",
    "        count_each = (M - amount) // goods[index][1]\n",
    "        amount += goods[index][1] * count_each\n",
    "        if goods[index][0] == 1:\n",
    "            typeA += count_each\n",
    "\n",
    "print(typeA, M - amount)"
   ]
  },
  {
   "cell_type": "markdown",
   "metadata": {
    "pycharm": {
     "name": "#%% md\n"
    }
   },
   "source": [
    "**Задание 26.4** В&nbsp;текстовом файле записан набор натуральных чисел, не&nbsp;превышающих $10^9$. Гарантируется, что все числа различны. Необходимо определить, сколько в&nbsp;наборе таких пар нечётных чисел, что их&nbsp;среднее арифметическое тоже присутствует в&nbsp;файле, и&nbsp;чему равно наибольшее из&nbsp;средних арифметических таких пар.\n",
    "\n",
    "Входные данные.\n",
    "Первая строка входного файла содержит целое число N &mdash; общее количество чисел в&nbsp;наборе. Каждая из&nbsp;следующих&nbsp;N строк содержит одно число.\n",
    "\n",
    "В&nbsp;ответе запишите два целых числа: сначала количество пар, затем наибольшее среднее арифметическое.\n",
    "\n",
    "Пример входного файла:\n",
    "```\n",
    "6\n",
    "9\n",
    "10\n",
    "14\n",
    "13\n",
    "8\n",
    "11\n",
    "```\n",
    "В&nbsp;данном случае есть две подходящие пары: 9&nbsp;и&nbsp;13 (среднее арифметическое 11), 9&nbsp;и&nbsp;11 (среднее арифметическое 10). В&nbsp;ответе надо записать числа 2&nbsp;и&nbsp;11."
   ]
  },
  {
   "cell_type": "code",
   "execution_count": 95,
   "metadata": {
    "pycharm": {
     "name": "#%%\n"
    }
   },
   "outputs": [
    {
     "name": "stdout",
     "output_type": "stream",
     "text": [
      "14 679730035\n"
     ]
    }
   ],
   "source": [
    "file = open('26.4.txt').readlines()[1:]\n",
    "numbers = set()\n",
    "odd = []\n",
    "\n",
    "for line in file:\n",
    "    n = int(line)\n",
    "    if n % 2 != 0:\n",
    "        odd.append(n)\n",
    "    numbers.add(n)\n",
    "    \n",
    "count = 0\n",
    "maxAvg = 0\n",
    "\n",
    "for i in range(len(odd)):\n",
    "    for j in range(i+1, len(odd)):\n",
    "        a = odd[i]\n",
    "        b = odd[j]\n",
    "        avg = (a + b) // 2\n",
    "        if avg in numbers:\n",
    "            count += 1\n",
    "            maxAvg = max(maxAvg, avg)\n",
    "            \n",
    "print(count, maxAvg)"
   ]
  },
  {
   "cell_type": "markdown",
   "metadata": {
    "pycharm": {
     "name": "#%% md\n"
    }
   },
   "source": [
    "**Задание 26.5** Иван коллекционирует старые марки. Он&nbsp;собирает все марки, которые были выпущены в&nbsp;его стране за&nbsp;определённые годы. Иван знает, что в&nbsp;этот период каждый год выпускалось 8&nbsp;различных типов марок. Иван решил проверить свою коллекцию и&nbsp;понять, скольких видов марок ему не&nbsp;хватает и&nbsp;для какого самого позднего года ему не&nbsp;хватает наибольшего количества марок до&nbsp;полного набора.\n",
    "\n",
    "Входные данные представлены в&nbsp;файле следующим образом. В&nbsp;первой строке входного файла записано число N&nbsp;&mdash; количество марок, которые собрал Иван (натуральное число, не&nbsp;превышающее 10&nbsp;000). В&nbsp;следующих&nbsp;N строках записано по&nbsp;два числа: сначала год выпуска марки, затем&nbsp;&mdash; тип марки (натуральное число от&nbsp;1&nbsp;до&nbsp;8).\n",
    "\n",
    "Запишите в&nbsp;ответе два числа: количество видов марок, которых не&nbsp;хватает Ивану на&nbsp;интервале от&nbsp;1961 до&nbsp;1991&nbsp;года, и&nbsp;самый поздний год, в&nbsp;котором ему не&nbsp;хватает наибольшего количества марок до&nbsp;полного набора.\n",
    "\n",
    "Пример входного файла:\n",
    "```\n",
    "10\n",
    "1962 1\n",
    "1962 2\n",
    "1962 3\n",
    "1962 4\n",
    "1962 6\n",
    "1962 7\n",
    "1962 8\n",
    "1963 4\n",
    "1964 1\n",
    "1964 3\n",
    "```\n",
    "При таких входных данных будем считать, что Ивана интересуют только годы с&nbsp;1962 по&nbsp;1964.\n",
    "В&nbsp;1962 году ему не&nbsp;хватает 1&nbsp;вида марок; в&nbsp;1963 году не&nbsp;хватает 7&nbsp;видов марок; в&nbsp;1964 году не&nbsp;хватает 6&nbsp;видов марок. Ответ: 14 1963."
   ]
  },
  {
   "cell_type": "code",
   "execution_count": 103,
   "metadata": {
    "pycharm": {
     "name": "#%%\n"
    }
   },
   "outputs": [
    {
     "name": "stdout",
     "output_type": "stream",
     "text": [
      "1991 38\n"
     ]
    }
   ],
   "source": [
    "file = open('26.5.txt').readlines()[1:]\n",
    "year_mark = {}\n",
    "\n",
    "for line in file:\n",
    "    year, mark = map(int, line.split())\n",
    "    if year not in year_mark:\n",
    "        year_mark[year] = set(range(1, 9))\n",
    "    year_mark[year] = year_mark[year] - {mark}\n",
    "\n",
    "count = 0\n",
    "maxYear = 0\n",
    "\n",
    "for year in year_mark:\n",
    "    if year_mark[year]:\n",
    "        count += len(year_mark[year])\n",
    "        maxYear = max(maxYear, year)\n",
    "        \n",
    "print(maxYear, count)"
   ]
  },
  {
   "cell_type": "markdown",
   "metadata": {
    "pycharm": {
     "name": "#%% md\n"
    }
   },
   "source": [
    "**Задание 26.6** При проведении эксперимента заряженные частицы попадают на&nbsp;чувствительный экран, представляющий из&nbsp;себя матрицу размером 640&nbsp;на 480&nbsp;точек. При попадании очередной частицы на&nbsp;экран в&nbsp;файл записываются координаты чувствительного элемента: номер строки (целое число от&nbsp;1&nbsp;до&nbsp;640) и&nbsp;номер позиции в&nbsp;строке (целое число от&nbsp;1&nbsp;до&nbsp;480). Точка экрана, в&nbsp;которую попала хотя&nbsp;бы одна частица, считается светлой, точка, в&nbsp;которую ни&nbsp;одна частица не&nbsp;попала,&nbsp;&mdash; тёмной.\n",
    "Вам нужно определить наибольшую длину цепочки в&nbsp;одной строке, состоящей только из&nbsp;светлых точек, и&nbsp;строку, в&nbsp;котором она находится. Если таких строк несколько, укажите максимальный из&nbsp;их&nbsp;номеров.\n",
    "\n",
    "Входные данные представлены в&nbsp;файле следующим образом. В&nbsp;первой строке входного файла записано целое число N&nbsp;&mdash; количество частиц, попавших на&nbsp;экран. В&nbsp;каждой из&nbsp;следующих&nbsp;N строк записаны по&nbsp;два числа, разделённые пробелом: номер строки и&nbsp;номер позиции в&nbsp;строке.\n",
    "\n",
    "Запишите в&nbsp;ответе два числа: сначала наибольшую длину цепочки из&nbsp;светлых точек, затем&nbsp;&mdash; номер строки, в&nbsp;которой находится эта цепочка (если таких строк несколько, запишите максимальный из&nbsp;их&nbsp;номеров).\n",
    "\n",
    "Пример входного файла:\n",
    "```\n",
    "7\n",
    "1 2\n",
    "2 3\n",
    "3 6\n",
    "2 4\n",
    "1 3\n",
    "2 5\n",
    "2 4\n",
    "```\n",
    "При таких исходных данных имеется три цепочки светлых точек: в&nbsp;позициях 2&nbsp;и&nbsp;3&nbsp;строки&nbsp;1, в&nbsp;позициях 4, 5&nbsp;и&nbsp;6&nbsp;строки&nbsp;2 (это самая длинная цепочка!) и&nbsp;точка в&nbsp;позиции 6&nbsp;строки 3. Ответ: 3&nbsp;2."
   ]
  },
  {
   "cell_type": "code",
   "execution_count": 117,
   "metadata": {
    "pycharm": {
     "name": "#%%\n"
    }
   },
   "outputs": [
    {
     "name": "stdout",
     "output_type": "stream",
     "text": [
      "8 338\n"
     ]
    }
   ],
   "source": [
    "# file = \"\"\"7\n",
    "# 1 2\n",
    "# 2 3\n",
    "# 3 6\n",
    "# 2 4\n",
    "# 1 3\n",
    "# 2 5\n",
    "# 2 4\n",
    "# \"\"\".splitlines()[1:]\n",
    "\n",
    "file = open('26.6.txt').readlines()[1:]\n",
    "matrix = [[' '] * 481 for x in range(641)]\n",
    "\n",
    "for line in file:\n",
    "    row, col = map(int, line.split())\n",
    "    matrix[row][col] = '1'\n",
    "\n",
    "maxWhite = 0\n",
    "maxLine = 0\n",
    "for i in range(1, len(matrix)):\n",
    "    line = matrix[i]\n",
    "    string = ''.join(line)\n",
    "    string = string.split()\n",
    "    if string:\n",
    "        max_str = max(string, key=len)\n",
    "        if maxWhite <= len(max_str):\n",
    "            maxWhite = len(max_str)\n",
    "            maxLine = i\n",
    "    \n",
    "print(maxWhite, maxLine)"
   ]
  }
 ],
 "metadata": {
  "kernelspec": {
   "display_name": "Python 3 (ipykernel)",
   "language": "python",
   "name": "python3"
  },
  "language_info": {
   "codemirror_mode": {
    "name": "ipython",
    "version": 3
   },
   "file_extension": ".py",
   "mimetype": "text/x-python",
   "name": "python",
   "nbconvert_exporter": "python",
   "pygments_lexer": "ipython3",
   "version": "3.10.4"
  },
  "latex_envs": {
   "LaTeX_envs_menu_present": false,
   "autoclose": false,
   "autocomplete": true,
   "bibliofile": "biblio.bib",
   "cite_by": "apalike",
   "current_citInitial": 1,
   "eqLabelWithNumbers": false,
   "eqNumInitial": 1,
   "hotkeys": {
    "equation": "Ctrl-E",
    "itemize": "Ctrl-I"
   },
   "labels_anchors": false,
   "latex_user_defs": false,
   "report_style_numbering": false,
   "user_envs_cfg": false
  }
 },
 "nbformat": 4,
 "nbformat_minor": 1
}
