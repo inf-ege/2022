{
 "cells": [
  {
   "cell_type": "markdown",
   "metadata": {
    "pycharm": {
     "name": "#%%\n"
    }
   },
   "source": [
    "# Рекурсивные функции"
   ]
  },
  {
   "cell_type": "markdown",
   "metadata": {},
   "source": [
    "## Задание 16"
   ]
  },
  {
   "cell_type": "markdown",
   "metadata": {
    "pycharm": {
     "name": "#%%\n"
    }
   },
   "source": [
    "**Задание 16.1**\n",
    "Ниже на пяти языках программирования записан рекурсивный алгоритм F. Чему будет равно значение, вычисленное алгоритмом при выполнении вызова F(5)?\n",
    "```\n",
    "def F(n):\n",
    "    if n > 2:\n",
    "        return F(n-1)+ F(n-2)\n",
    "    else: return 1\n",
    "```"
   ]
  },
  {
   "cell_type": "code",
   "execution_count": null,
   "metadata": {
    "pycharm": {
     "name": "#%%\n"
    }
   },
   "outputs": [],
   "source": [
    "def F(n):\n",
    "    if n > 2:\n",
    "        return F(n-1)+ F(n-2)\n",
    "    else: return 1\n",
    "\n",
    "print(F(5))"
   ]
  },
  {
   "cell_type": "markdown",
   "metadata": {
    "pycharm": {
     "name": "#%% md\n"
    }
   },
   "source": [
    "**Задание 16.2** Ниже записана рекурсивная функция (процедура) F. Что выведет программа при вызове F(4)? В&nbsp;ответе запишите последовательность выведенных цифр слитно (без пробелов).\n",
    "```\n",
    "def F(n):\n",
    "    print (n, end='')\n",
    "    if n > 2:\n",
    "        F(n − 3)\n",
    "        F(n − 2)\n",
    "        F(n − 1)\n",
    "```"
   ]
  },
  {
   "cell_type": "code",
   "execution_count": null,
   "metadata": {
    "pycharm": {
     "name": "#%%\n"
    }
   },
   "outputs": [],
   "source": [
    "def F(n):\n",
    "    print(n)\n",
    "    if n > 2:\n",
    "        F(n - 3)\n",
    "        F(n - 2)\n",
    "        F(n - 1)\n",
    "\n",
    "F(4)"
   ]
  },
  {
   "cell_type": "markdown",
   "metadata": {
    "pycharm": {
     "name": "#%% md\n"
    }
   },
   "source": [
    "**Задание 16.3** Ниже на пяти языках программирования записан рекурсивный алгоритм F. Чему равна сумма напечатанных на экране чисел при выполнении вызова F(10)?\n",
    "```\n",
    "def F(n):\n",
    "    if n > 2:\n",
    "        print(n)\n",
    "        F(n - 3)\n",
    "        F(n – 4)\n",
    "```"
   ]
  },
  {
   "cell_type": "code",
   "execution_count": null,
   "metadata": {
    "pycharm": {
     "name": "#%%\n"
    }
   },
   "outputs": [],
   "source": [
    "def F(n):\n",
    "    if n > 2:\n",
    "        print(n)\n",
    "        F(n - 3)\n",
    "        F(n - 4)\n",
    "        \n",
    "F(10)"
   ]
  },
  {
   "cell_type": "code",
   "execution_count": null,
   "metadata": {
    "pycharm": {
     "name": "#%%\n"
    }
   },
   "outputs": [],
   "source": [
    "nums = []\n",
    "def F(n):\n",
    "    if n > 2:\n",
    "        nums.append(n)\n",
    "        F(n - 3)\n",
    "        F(n - 4)\n",
    "        \n",
    "F(10)\n",
    "print(sum(nums))"
   ]
  },
  {
   "cell_type": "markdown",
   "metadata": {
    "pycharm": {
     "name": "#%% md\n"
    }
   },
   "source": [
    "**Задание 16.4** Ниже на пяти языках программирования записаны две рекурсивные функции (процедуры): F и G. Сколько символов «звёздочка» будет напечатано на экране при выполнении вызова F(11)?\n",
    "```\n",
    "def F(n):\n",
    "    if n > 0:\n",
    "        G(n - 1)\n",
    " \n",
    "def G(n):\n",
    "    print(\"*\")\n",
    "    if n > 1:\n",
    "        F(n - 2)\n",
    "```"
   ]
  },
  {
   "cell_type": "code",
   "execution_count": null,
   "metadata": {
    "pycharm": {
     "name": "#%%\n"
    }
   },
   "outputs": [],
   "source": [
    "def F(n):\n",
    "    if n > 0:\n",
    "        G(n - 1)\n",
    "\n",
    "def G(n):\n",
    "    print(\"*\")\n",
    "    if n > 1:\n",
    "        F(n - 2)\n",
    "\n",
    "F(11)"
   ]
  },
  {
   "cell_type": "code",
   "execution_count": null,
   "metadata": {
    "pycharm": {
     "name": "#%%\n"
    }
   },
   "outputs": [],
   "source": [
    "count = []\n",
    "def F(n):\n",
    "    if n > 0:\n",
    "        G(n - 1)\n",
    "\n",
    "def G(n):\n",
    "    count.append(\"*\")\n",
    "    if n > 1:\n",
    "        F(n - 2)\n",
    "\n",
    "F(11)\n",
    "print(count, len(count))"
   ]
  },
  {
   "cell_type": "markdown",
   "metadata": {
    "pycharm": {
     "name": "#%% md\n"
    }
   },
   "source": [
    "**Задание 16.5** Алгоритм вычисления значения функции F(n), где n — целое неотрицательное число, задан следующими соотношениями:  \n",
    "\n",
    "$F(n) = 0$, при $n \\leq 1$;  \n",
    "$F(n) = F(n − 1) + 3n^2$, если $n > 1$ и при этом нечётно;  \n",
    "$F(n) = n / 2 + F(n − 1) + 2$, если $n > 1$ и при этом чётно.\n",
    "\n",
    "Чему равно значение функции F(49)? В ответе запишите только целое число."
   ]
  },
  {
   "cell_type": "code",
   "execution_count": null,
   "metadata": {
    "pycharm": {
     "name": "#%%\n"
    }
   },
   "outputs": [],
   "source": [
    "def F(n):\n",
    "    if n <= 1:\n",
    "        return 0\n",
    "    if n > 1 and n % 2 == 1:\n",
    "        return F(n-1) + 3 * n ** 2\n",
    "    if n > 1 and n % 2 == 0:\n",
    "        return n // 2 + F(n-1) + 2\n",
    "\n",
    "print(F(49))"
   ]
  },
  {
   "cell_type": "code",
   "execution_count": null,
   "metadata": {
    "pycharm": {
     "name": "#%%\n"
    }
   },
   "outputs": [],
   "source": [
    "def F(n):\n",
    "    if n <= 1:\n",
    "        return 0\n",
    "    if n % 2 == 1:\n",
    "        return F(n-1) + 3 * n ** 2\n",
    "    return n // 2 + F(n-1) + 2\n",
    "\n",
    "print(F(49))"
   ]
  },
  {
   "cell_type": "markdown",
   "metadata": {
    "pycharm": {
     "name": "#%% md\n"
    }
   },
   "source": [
    "**Задание 16.6** Алгоритм вычисления значения функции F(n), где n – натуральное число, задан следующими соотношениями:\n",
    "\n",
    "$F(1) = 1$  \n",
    "$F(2) = 3$  \n",
    "$F(n) = F(n–1) * n + F(n–2) * (n – 1)$, при $n > 2$\n",
    "\n",
    "Чему равно значение функции F(5)?"
   ]
  },
  {
   "cell_type": "code",
   "execution_count": null,
   "metadata": {
    "pycharm": {
     "name": "#%%\n"
    }
   },
   "outputs": [],
   "source": [
    "def F(n):\n",
    "    if n == 1:\n",
    "        return 1\n",
    "    if n == 2:\n",
    "        return 3\n",
    "    if n > 2:\n",
    "        return F(n-1) * n + F(n-2) * (n-1)\n",
    "\n",
    "print(F(5))"
   ]
  },
  {
   "cell_type": "code",
   "execution_count": null,
   "metadata": {
    "pycharm": {
     "name": "#%%\n"
    }
   },
   "outputs": [],
   "source": [
    "def F(n):\n",
    "    if n == 1:\n",
    "        return 1\n",
    "    if n == 2:\n",
    "        return 3\n",
    "    return F(n-1) * n + F(n-2) * (n-1)\n",
    "\n",
    "print(F(5))"
   ]
  },
  {
   "cell_type": "markdown",
   "metadata": {
    "pycharm": {
     "name": "#%% md\n"
    }
   },
   "source": [
    "## Задание 23"
   ]
  },
  {
   "cell_type": "markdown",
   "metadata": {
    "pycharm": {
     "name": "#%% md\n"
    }
   },
   "source": [
    "**Задание 23.1** У исполнителя Арифметик две команды, которым присвоены номера:\n",
    "```\n",
    "1. прибавь 1,\n",
    "2. прибавь 3.\n",
    "```\n",
    "Первая из&nbsp;них увеличивает на&nbsp;1&nbsp;число на&nbsp;экране, вторая увеличивает это число на&nbsp;3. Программа &mdash; это последовательность команд. Сколько существует программ, которые число 2&nbsp;преобразуют в&nbsp;число&nbsp;15?"
   ]
  },
  {
   "cell_type": "code",
   "execution_count": null,
   "metadata": {
    "pycharm": {
     "name": "#%%\n"
    }
   },
   "outputs": [],
   "source": [
    "def F(n):\n",
    "    if n < 2:\n",
    "        return 0\n",
    "    if n == 2:\n",
    "        return 1\n",
    "    return F(n-1) + F(n-3)\n",
    "\n",
    "print(F(15))"
   ]
  },
  {
   "cell_type": "markdown",
   "metadata": {
    "pycharm": {
     "name": "#%% md\n"
    }
   },
   "source": [
    "**Задание 23.2** У исполнителя Удвоитель две команды, которым присвоены номера:\n",
    "```\n",
    "1. прибавь 1,\n",
    "2. умножь на 2.\n",
    "```\n",
    "Первая из них увеличивает число на экране на 1, вторая удваивает его. Программа — это последовательность команд. Сколько есть программ, которые число 2 преобразуют в число 22?"
   ]
  },
  {
   "cell_type": "code",
   "execution_count": null,
   "metadata": {
    "pycharm": {
     "name": "#%%\n"
    }
   },
   "outputs": [],
   "source": [
    "def F(n):\n",
    "    if n < 2:\n",
    "        return 0\n",
    "    if n == 2:\n",
    "        return 1\n",
    "    if n % 2 == 0:\n",
    "        return F(n-1) + F(n//2)\n",
    "    return F(n-1)\n",
    "\n",
    "print(F(22))"
   ]
  },
  {
   "cell_type": "markdown",
   "metadata": {
    "pycharm": {
     "name": "#%% md\n"
    }
   },
   "source": [
    "**Задание 23.3** У исполнителя Удвоитель-Утроитель три команды, которым присвоены номера:\n",
    "```\n",
    "1. прибавь 1\n",
    "2. умножь на 2\n",
    "3. умножь на 3.\n",
    "```\n",
    "Первая из них увеличивает на 1 число на экране, вторая увеличивает это число в 2 раза, третья — в 3 раза. Программа для Удвоителя-Утроителя — это последовательность команд. Сколько существует программ, которые число 1 преобразуют в число 13?"
   ]
  },
  {
   "cell_type": "code",
   "execution_count": null,
   "metadata": {
    "pycharm": {
     "name": "#%%\n"
    }
   },
   "outputs": [],
   "source": [
    "def F(n):\n",
    "    if n < 1:\n",
    "        return 0\n",
    "    if n == 1:\n",
    "        return 1\n",
    "    if n % 2 == 0 and n % 3 == 0:\n",
    "        return F(n-1) + F(n//2) + F(n//3)\n",
    "    if n % 2 == 0:\n",
    "        return F(n-1) + F(n//2)\n",
    "    if n % 3 == 0:\n",
    "        return F(n-1) + F(n//3)\n",
    "    return F(n-1)\n",
    "print(F(13))"
   ]
  },
  {
   "cell_type": "code",
   "execution_count": null,
   "metadata": {
    "pycharm": {
     "name": "#%%\n"
    }
   },
   "outputs": [],
   "source": [
    "def F(n):\n",
    "    if n < 1:\n",
    "        return 0\n",
    "    if n == 1:\n",
    "        return 1\n",
    "    if n % 6 == 0:\n",
    "        return F(n-1) + F(n//2) + F(n//3)\n",
    "    if n % 2 == 0:\n",
    "        return F(n-1) + F(n//2)\n",
    "    if n % 3 == 0:\n",
    "        return F(n-1) + F(n//3)\n",
    "    return F(n-1)\n",
    "print(F(13))"
   ]
  },
  {
   "cell_type": "markdown",
   "metadata": {
    "pycharm": {
     "name": "#%% md\n"
    }
   },
   "source": [
    "**Задание 23.4** У исполнителя четыре команды, которым присвоены номера:\n",
    "```\n",
    "1. прибавь 1,\n",
    "2. сделай чётное,\n",
    "3. сделай нечётное,\n",
    "4. умножь на 10.\n",
    "```\n",
    "Первая из них увеличивает на 1 исходное число x, вторая умножает это число на 2, третья переводит число x в&nbsp;число 2x + 1, четвёртая умножает его на 10. Например, вторая команда переводит число 10 в число 20, а&nbsp;третья переводит число 10 в число 21. Программа для исполнителя — это последовательность команд.\n",
    "\n",
    "Сколько существует программ, которые число 1 преобразуют в число 15?"
   ]
  },
  {
   "cell_type": "code",
   "execution_count": null,
   "metadata": {
    "pycharm": {
     "name": "#%%\n"
    }
   },
   "outputs": [],
   "source": [
    "def F(n):\n",
    "    if n < 1: return 0\n",
    "    if n == 1: return 1\n",
    "    if n % 10 == 0: return F(n-1) + F(n//2) + F(n//10)\n",
    "    if n % 2 == 0: return  F(n-1) + F(n//2)\n",
    "    if n % 2 != 0: return F(n-1) + F((n-1)//2)\n",
    "\n",
    "print(F(15))"
   ]
  },
  {
   "cell_type": "markdown",
   "metadata": {
    "pycharm": {
     "name": "#%% md\n"
    }
   },
   "source": [
    "**Задание 23.5** Исполнитель преобразует число на экране. У исполнителя есть три команды, которым присвоены номера:\n",
    "```\n",
    "1. Прибавить 1\n",
    "2. Прибавить 2\n",
    "3. Умножить на 3\n",
    "```\n",
    "Первая команда увеличивает число на экране на 1, вторая увеличивает его на 2, третья — умножает на 3. Программа для исполнителя — это последовательность команд. Сколько существует программ, которые преобразуют исходное число 1 в число 15, и при этом траектория вычислений содержит число 8?\n",
    "\n",
    "Траектория вычислений — это последовательность результатов выполнения всех команд программы. Например, для программы 231 при исходном числе 4 траектория будет состоять из чисел 6, 18, 19."
   ]
  },
  {
   "cell_type": "code",
   "execution_count": null,
   "metadata": {
    "pycharm": {
     "name": "#%%\n"
    }
   },
   "outputs": [],
   "source": [
    "def F(n):\n",
    "    if n < 8: return 0\n",
    "    if n == 8: return 31\n",
    "    if n % 3 == 0: return F(n-1) + F(n-2) + F(n//3)\n",
    "    return F(n-1) + F(n-2)\n",
    "\n",
    "print(F(15))"
   ]
  },
  {
   "cell_type": "markdown",
   "metadata": {
    "pycharm": {
     "name": "#%% md\n"
    }
   },
   "source": [
    "**Задание 23.6** Исполнитель А22 преобразует целое число, записанное на экране. У исполнителя три команды, каждой команде присвоен номер:\n",
    "```\n",
    "1. Прибавь 1\n",
    "2. Прибавь 2\n",
    "3. Прибавь предыдущее\n",
    "```\n",
    "Первая команда увеличивает число на&nbsp;экране на&nbsp;1, вторая увеличивает это число на&nbsp;2, третья прибавляет к&nbsp;числу на&nbsp;экране число, меньшее на&nbsp;1 (к&nbsp;числу 3&nbsp;прибавляется&nbsp;2, к&nbsp;числу 11&nbsp;прибавляется 10&nbsp;и&nbsp;т. д.). Программа для исполнителя А22 &mdash; это последовательность команд. Сколько существует программ, которые преобразуют исходное число 3 в число 16 и при этом траектория вычислений не содержит чисел 6 и 12?"
   ]
  },
  {
   "cell_type": "code",
   "execution_count": null,
   "metadata": {
    "pycharm": {
     "name": "#%%\n"
    }
   },
   "outputs": [],
   "source": [
    "def F(n):\n",
    "    if n < 3 or n == 6 or n == 12: return 0\n",
    "    if n == 3: return 1\n",
    "    if n % 2 == 0: return F(n-1) + F(n-2) + F((n+1)//2)\n",
    "    return F(n-1) + F(n-2)\n",
    "\n",
    "print(F(16))"
   ]
  },
  {
   "cell_type": "markdown",
   "metadata": {
    "pycharm": {
     "name": "#%% md\n"
    }
   },
   "source": [
    "**Задание 23.7** Исполнитель ДваждыДва преобразует число на экране. У исполнителя есть две команды, которым присвоены номера:\n",
    "```\n",
    "1. Прибавить 2\n",
    "2. Умножить на 2\n",
    "```\n",
    "Первая команда увеличивает число на экране на 2, вторая умножает его на 2. Программа для исполнителя ДваждыДва — это последовательность команд. Сколько существует программ, которые преобразуют исходное число 1 в число 20, и при этом траектория вычислений содержит ровно одно из чисел 9 и 10?\n",
    "\n",
    "Траектория вычислений — это последовательность результатов выполнения всех команд программы. Например, для программы 212 при исходном числе 4 траектория будет состоять из чисел 8, 10, 20."
   ]
  },
  {
   "cell_type": "code",
   "execution_count": 4,
   "metadata": {
    "pycharm": {
     "name": "#%%\n"
    }
   },
   "outputs": [
    {
     "name": "stdout",
     "output_type": "stream",
     "text": [
      "1\n",
      "1\n",
      "6\n",
      "12\n"
     ]
    }
   ],
   "source": [
    "# для 1—>9\n",
    "def F(n):\n",
    "    if n < 1: return 0\n",
    "    if n == 1: return 1\n",
    "    if n == 10: return 0\n",
    "    if n % 2 == 0: return F(n-2) + F(n//2)\n",
    "    return F(n-2)\n",
    "print(F(9))\n",
    "\n",
    "# для 9->20\n",
    "def F(n):\n",
    "    if n < 9: return 0\n",
    "    if n == 9: return 1\n",
    "    if n == 10: return 0\n",
    "    if n % 2 == 0: return F(n-2) + F(n//2)\n",
    "    return F(n-2)\n",
    "print(F(20))\n",
    "\n",
    "# для 1->10\n",
    "def F(n):\n",
    "    if n < 1: return 0\n",
    "    if n == 1: return 1\n",
    "    if n == 9: return 0\n",
    "    if n % 2 == 0: return F(n-2) + F(n//2)\n",
    "    return F(n-2)\n",
    "print(F(10))\n",
    "\n",
    "# для 10->20\n",
    "def F(n):\n",
    "    if n < 10: return 0\n",
    "    if n == 10: return 6\n",
    "    if n == 9: return 0\n",
    "    if n % 2 == 0: return F(n-2) + F(n//2)\n",
    "    return F(n-2)\n",
    "print(F(20))"
   ]
  }
 ],
 "metadata": {
  "kernelspec": {
   "display_name": "Python 3 (ipykernel)",
   "language": "python",
   "name": "python3"
  },
  "language_info": {
   "codemirror_mode": {
    "name": "ipython",
    "version": 3
   },
   "file_extension": ".py",
   "mimetype": "text/x-python",
   "name": "python",
   "nbconvert_exporter": "python",
   "pygments_lexer": "ipython3",
   "version": "3.10.4"
  },
  "latex_envs": {
   "LaTeX_envs_menu_present": false,
   "autoclose": false,
   "autocomplete": true,
   "bibliofile": "biblio.bib",
   "cite_by": "apalike",
   "current_citInitial": 1,
   "eqLabelWithNumbers": false,
   "eqNumInitial": 1,
   "hotkeys": {
    "equation": "Ctrl-E",
    "itemize": "Ctrl-I"
   },
   "labels_anchors": false,
   "latex_user_defs": false,
   "report_style_numbering": false,
   "user_envs_cfg": false
  }
 },
 "nbformat": 4,
 "nbformat_minor": 1
}
