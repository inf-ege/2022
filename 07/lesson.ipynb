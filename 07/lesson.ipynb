{
 "cells": [
  {
   "cell_type": "markdown",
   "metadata": {
    "pycharm": {
     "is_executing": true,
     "name": "#%%\n"
    }
   },
   "source": [
    "# Алгоримы на системы счисления"
   ]
  },
  {
   "cell_type": "markdown",
   "metadata": {
    "pycharm": {
     "name": "#%% md\n"
    }
   },
   "source": [
    "## Задание 14"
   ]
  },
  {
   "cell_type": "markdown",
   "metadata": {
    "pycharm": {
     "name": "#%% md\n"
    }
   },
   "source": [
    "**Задание 14.1** Значение выражения $4^{503}+3·4^{244}-2·4^{444}-95$ записали в&nbsp;системе счисления с&nbsp;основанием&nbsp;4. Сколько цифр 3 содержится в&nbsp;этой записи?"
   ]
  },
  {
   "cell_type": "code",
   "execution_count": 1,
   "metadata": {
    "cell_style": "center",
    "pycharm": {
     "name": "#%%\n"
    }
   },
   "outputs": [
    {
     "name": "stdout",
     "output_type": "stream",
     "text": [
      "298\n"
     ]
    }
   ],
   "source": [
    "n = 4 ** 503 + 3 * (4 ** 244) - 2 * (4 ** 444) - 95\n",
    "count = 0\n",
    "\n",
    "while n > 0:\n",
    "    if n % 4 == 3:\n",
    "        count += 1\n",
    "    n //= 4\n",
    "    \n",
    "print(count)"
   ]
  },
  {
   "cell_type": "code",
   "execution_count": 2,
   "metadata": {
    "cell_style": "center"
   },
   "outputs": [
    {
     "name": "stdout",
     "output_type": "stream",
     "text": [
      "298\n"
     ]
    }
   ],
   "source": [
    "n = 4 ** 503 + 3 * (4 ** 244) - 2 * (4 ** 444) - 95\n",
    "count = 0\n",
    "\n",
    "while n:\n",
    "    count += n % 4 == 3\n",
    "    n //= 4\n",
    "    \n",
    "print(count)"
   ]
  },
  {
   "cell_type": "markdown",
   "metadata": {
    "pycharm": {
     "name": "#%% md\n"
    }
   },
   "source": [
    "**Задание 14.2** Значение арифметического выражения $3·4^{38}+2·4^{23}+4^{20}+3·4^5+2·4^4+1$ записали в&nbsp;системе счисления с&nbsp;основанием 16. Сколько значащих нулей содержится в&nbsp;этой записи?"
   ]
  },
  {
   "cell_type": "code",
   "execution_count": 14,
   "metadata": {
    "cell_style": "center",
    "pycharm": {
     "name": "#%%\n"
    }
   },
   "outputs": [
    {
     "name": "stdout",
     "output_type": "stream",
     "text": [
      "15\n"
     ]
    }
   ],
   "source": [
    "n = 3 * 4 ** 38 + 2 * 4 ** 23 + 4 ** 20 + 3 * 4 ** 5 + 2 * 4 ** 4 + 1\n",
    "count = 0\n",
    "\n",
    "while n > 0:\n",
    "    if n % 16 == 0:\n",
    "        count += 1\n",
    "    n //= 16\n",
    "\n",
    "print(count)"
   ]
  },
  {
   "cell_type": "code",
   "execution_count": 13,
   "metadata": {
    "cell_style": "center"
   },
   "outputs": [
    {
     "name": "stdout",
     "output_type": "stream",
     "text": [
      "15\n"
     ]
    }
   ],
   "source": [
    "n = 3 * 4 ** 38 + 2 * 4 ** 23 + 4 ** 20 + 3 * 4 ** 5 + 2 * 4 ** 4 + 1\n",
    "n16 = hex(n)\n",
    "print(n16.count('0') - 1)"
   ]
  },
  {
   "cell_type": "markdown",
   "metadata": {
    "pycharm": {
     "name": "#%% md\n"
    }
   },
   "source": [
    "**Задание 14.2** Значение арифметического выражения $7·512^{1912}+6·64^{1954}−5·8^{1991}−4·8^{1980}−2022$ записали в системе счисления с основанием 8. Определите количество цифр 7 в записи этого числа."
   ]
  },
  {
   "cell_type": "code",
   "execution_count": 4,
   "metadata": {
    "cell_style": "center",
    "pycharm": {
     "name": "#%%\n"
    }
   },
   "outputs": [
    {
     "name": "stdout",
     "output_type": "stream",
     "text": [
      "3903\n"
     ]
    }
   ],
   "source": [
    "n = 7 * 512 ** 1912 + 6 * 64 ** 1954 - 5 * 8 ** 1991 - 4 * 8 ** 1980 - 2022\n",
    "count = 0\n",
    "\n",
    "while n > 0:\n",
    "    if n % 8 == 7:\n",
    "        count += 1\n",
    "    n //= 8\n",
    "\n",
    "print(count)"
   ]
  },
  {
   "cell_type": "code",
   "execution_count": 5,
   "metadata": {
    "cell_style": "center"
   },
   "outputs": [
    {
     "name": "stdout",
     "output_type": "stream",
     "text": [
      "3903\n"
     ]
    }
   ],
   "source": [
    "n = 7 * 512 ** 1912 + 6 * 64 ** 1954 - 5 * 8 ** 1991 - 4 * 8 ** 1980 - 2022\n",
    "n8 = oct(n)\n",
    "print(n8.count('7'))"
   ]
  },
  {
   "cell_type": "markdown",
   "metadata": {
    "pycharm": {
     "name": "#%% md\n"
    }
   },
   "source": [
    "**Задание 14.3** Значение выражения $343^5+7^3-1−X$ записали в системе счисления с основанием 7, при этом в записи оказалось 12 цифр 6. При каком минимальном целом положительном X это возможно?"
   ]
  },
  {
   "cell_type": "code",
   "execution_count": 20,
   "metadata": {
    "pycharm": {
     "name": "#%%\n"
    }
   },
   "outputs": [
    {
     "name": "stdout",
     "output_type": "stream",
     "text": [
      "400\n"
     ]
    }
   ],
   "source": [
    "for x in range(1, 1000):\n",
    "    n = 343 ** 5 + 7 ** 3 - 1 - x\n",
    "    count = 0\n",
    "    while n > 0:\n",
    "        if n % 7 == 6:\n",
    "            count += 1\n",
    "        n //= 7\n",
    "    if count == 12:\n",
    "        print(x)\n",
    "        break"
   ]
  },
  {
   "cell_type": "markdown",
   "metadata": {
    "pycharm": {
     "name": "#%% md\n"
    }
   },
   "source": [
    "**Задание 14.4** В некоторой системе счисления записи десятичных чисел 66 и 40 заканчиваются на 1. Определите основание системы счисления.\n",
    "\n",
    "![задание 14](https://raw.githubusercontent.com/inf-ege/2022/master/07/img/14/14.4.png)"
   ]
  },
  {
   "cell_type": "markdown",
   "metadata": {
    "pycharm": {
     "name": "#%% md\n"
    }
   },
   "source": [
    "**Задание 14.5** В системе счисления с основанием N запись числа $41_{10}$ оканчивается на 2, а запись числа $131_{10}$ — на 1. Чему равно число N?\n",
    "\n",
    "![задание 14](https://raw.githubusercontent.com/inf-ege/2022/master/07/img/14/14.5.png)"
   ]
  },
  {
   "cell_type": "markdown",
   "metadata": {
    "pycharm": {
     "name": "#%% md\n"
    }
   },
   "source": [
    "**Задание 14.6** Запись числа $23_{10}$ в некоторой системе счисления выглядит так: $212_q$. Найдите основание системы счисления q.\n",
    "\n",
    "![задание 14](https://raw.githubusercontent.com/inf-ege/2022/master/07/img/14/14.6.png)"
   ]
  },
  {
   "cell_type": "markdown",
   "metadata": {
    "pycharm": {
     "name": "#%% md\n"
    }
   },
   "source": [
    "**Задание 14.7** Укажите наименьшее основание системы счисления, в которой запись десятичного числа 30 имеет ровно три значащих разряда.\n",
    "\n",
    "![задание 14](https://raw.githubusercontent.com/inf-ege/2022/master/07/img/14/14.7.png)"
   ]
  },
  {
   "cell_type": "code",
   "execution_count": 21,
   "metadata": {},
   "outputs": [
    {
     "name": "stdout",
     "output_type": "stream",
     "text": [
      "4\n"
     ]
    }
   ],
   "source": [
    "for N in range(2, 100):\n",
    "    if N ** 2 <= 30 <= N ** 3 - 1:\n",
    "        print(N)\n",
    "        break"
   ]
  },
  {
   "cell_type": "markdown",
   "metadata": {
    "pycharm": {
     "name": "#%% md\n"
    }
   },
   "source": [
    "**Задание 14.8** Чему равно наименьшее основание позиционной системы счисления x, при котором $225_x = 405_y$? Ответ записать в виде целого числа.\n",
    "\n",
    "![задание 14](https://raw.githubusercontent.com/inf-ege/2022/master/07/img/14/14.8.png)"
   ]
  },
  {
   "cell_type": "code",
   "execution_count": 33,
   "metadata": {
    "pycharm": {
     "name": "#%%\n"
    }
   },
   "outputs": [
    {
     "name": "stdout",
     "output_type": "stream",
     "text": [
      "8\n"
     ]
    }
   ],
   "source": [
    "for x in range(6, 36+1):\n",
    "    for y in range(6, 36+1):\n",
    "        if int('225', x) == int('405', y):\n",
    "            print(x)"
   ]
  },
  {
   "cell_type": "markdown",
   "metadata": {
    "pycharm": {
     "name": "#%% md\n"
    }
   },
   "source": [
    "**Задание 14.9** Запишите натуральное число, десятичная запись которого состоит из двух цифр, шестнадцатеричная запись заканчивается цифрой A, а пятеричная — цифрой 3."
   ]
  },
  {
   "cell_type": "code",
   "execution_count": 36,
   "metadata": {},
   "outputs": [
    {
     "name": "stdout",
     "output_type": "stream",
     "text": [
      "58\n"
     ]
    }
   ],
   "source": [
    "for x in range(10, 99+1):\n",
    "    if x % 16 == 10 and x % 5 == 3:\n",
    "        print(x)"
   ]
  },
  {
   "cell_type": "markdown",
   "metadata": {
    "pycharm": {
     "name": "#%% md\n"
    }
   },
   "source": [
    "## Задание 5"
   ]
  },
  {
   "cell_type": "markdown",
   "metadata": {
    "pycharm": {
     "name": "#%% md\n"
    }
   },
   "source": [
    "**Задание&nbsp;5.1** Автомат получает на&nbsp;вход трёхзначное число. По&nbsp;этому числу строится новое число по&nbsp;следующим правилам.\n",
    "\n",
    "1. Складываются первая и&nbsp;вторая, а&nbsp;также вторая и&nbsp;третья цифры исходного числа.  \n",
    "2. Полученные два числа записываются друг за&nbsp;другом в&nbsp;порядке убывания (без разделителей).\n",
    "\n",
    "Пример. Исходное число: 348. Суммы: 3 + 4 = 7; 4 + 8 = 12. Результат: 127. \n",
    "\n",
    "Укажите наименьшее число, в&nbsp;результате обработки которого автомат выдаст число 1412.\n",
    "\n",
    "![задание 5](https://raw.githubusercontent.com/inf-ege/2022/master/07/img/05/5.1.png)"
   ]
  },
  {
   "cell_type": "code",
   "execution_count": 68,
   "metadata": {
    "scrolled": true
   },
   "outputs": [
    {
     "name": "stdout",
     "output_type": "stream",
     "text": [
      "395\n"
     ]
    }
   ],
   "source": [
    "for x in range(100, 999+1):\n",
    "    a = x // 100\n",
    "    b = x // 10 % 10\n",
    "    c = x % 10\n",
    "    s1 = a + b\n",
    "    s2 = b + c\n",
    "    if f'{max(s1,s2)}{min(s1,s2)}' == '1412':\n",
    "        print(x)\n",
    "        break"
   ]
  },
  {
   "cell_type": "markdown",
   "metadata": {
    "pycharm": {
     "name": "#%% md\n"
    }
   },
   "source": [
    "**Задание 5.2** На&nbsp;вход алгоритма подаётся натуральное число N.&nbsp;Алгоритм строит по&nbsp;нему новое число следующим образом.\n",
    "\n",
    "1. Из&nbsp;цифр, образующих десятичную запись&nbsp;N, строятся наибольшее и&nbsp;наименьшее возможные двузначные числа (числа не&nbsp;могут начинаться с&nbsp;нуля).  \n",
    "2. На&nbsp;экран выводится разность полученных двузначных чисел.\n",
    "\n",
    "Пример. Дано число N = 238. Алгоритм работает следующим образом:  \n",
    "1. Наибольшее двузначное число из&nbsp;заданных цифр &mdash; 83, наименьшее &mdash; 23.  \n",
    "2. На&nbsp;экран выводится разность 83 &minus; 23 = 60.\n",
    "\n",
    "Чему равно наименьшее возможное трёхзначное число&nbsp;N, в&nbsp;результате обработки которого на&nbsp;экране автомата появится число&nbsp;70?\n",
    "\n",
    "![задание 5](https://raw.githubusercontent.com/inf-ege/2022/master/07/img/05/5.2.png)"
   ]
  },
  {
   "cell_type": "markdown",
   "metadata": {
    "pycharm": {
     "name": "#%% md\n"
    }
   },
   "source": [
    "**Задание 5.3** На&nbsp;экране есть два окна, в&nbsp;каждом из&nbsp;которых записано по&nbsp;числу. Исполнитель СУММАТОР имеет только две команды, которым присвоены номера:\n",
    "\n",
    "1. Запиши сумму чисел в&nbsp;первое окно  \n",
    "2. Запиши сумму чисел во&nbsp;второе окно\n",
    "\n",
    "Выполняя команду номер 1, СУММАТОР складывает числа в&nbsp;двух окнах и&nbsp;заменяет этой суммой число в&nbsp;первом окне, а&nbsp;выполняя команду номер&nbsp;2, заменяет этой суммой число во&nbsp;втором окне. Напишите программу, содержащую не&nbsp;более 5&nbsp;команд, которая из&nbsp;пары чисел 1&nbsp;и&nbsp;2&nbsp;получает пару чисел 13&nbsp;и&nbsp;4. Укажите лишь номера команд.\n",
    "\n",
    "Например, программа 21211&nbsp;&mdash; это программа:\n",
    "Запиши сумму чисел во&nbsp;второе окно  \n",
    "Запиши сумму чисел в&nbsp;первое окно  \n",
    "Запиши сумму чисел во&nbsp;второе окно  \n",
    "Запиши сумму чисел в&nbsp;первое окно  \n",
    "Запиши сумму чисел в&nbsp;первое окно  \n",
    "которая преобразует пару чисел 1&nbsp;и&nbsp;0 в&nbsp;пару чисел 8&nbsp;и&nbsp;3."
   ]
  },
  {
   "cell_type": "code",
   "execution_count": 42,
   "metadata": {
    "cell_style": "center"
   },
   "outputs": [
    {
     "name": "stdout",
     "output_type": "stream",
     "text": [
      "2 2 1 1 1\n"
     ]
    }
   ],
   "source": [
    "for d1 in 1,2:\n",
    "    for d2 in 1,2:\n",
    "        for d3 in 1,2:\n",
    "            for d4 in 1,2:\n",
    "                for d5 in 1,2:\n",
    "                    a, b = 1, 2\n",
    "                    for d in d1,d2,d3,d4,d5:\n",
    "                        if d == 1:\n",
    "                            a, b = a + b, b\n",
    "                        else:\n",
    "                            a, b = a, b + a\n",
    "                    if a == 13 and b == 4:\n",
    "                        print(d1,d2,d3,d4,d5)"
   ]
  },
  {
   "cell_type": "code",
   "execution_count": 52,
   "metadata": {
    "cell_style": "center"
   },
   "outputs": [
    {
     "name": "stdout",
     "output_type": "stream",
     "text": [
      "22111\n"
     ]
    }
   ],
   "source": [
    "for num in range(2 ** 5):\n",
    "    cmd = f'{num:05b}'\n",
    "    cmd = cmd.replace('1', '2')\n",
    "    cmd = cmd.replace('0', '1')\n",
    "    a, b = 1, 2\n",
    "    for d in cmd:\n",
    "        if d == '1':\n",
    "            a, b = a + b, b\n",
    "        else:\n",
    "            a, b = a, b + a\n",
    "    if a == 13 and b == 4:\n",
    "        print(cmd)"
   ]
  },
  {
   "cell_type": "markdown",
   "metadata": {
    "pycharm": {
     "name": "#%% md\n"
    }
   },
   "source": [
    "**Задание 5.4** На&nbsp;вход алгоритма подаётся натуральное число N.&nbsp;Алгоритм строит по&nbsp;нему новое число&nbsp;R следующим образом.\n",
    "\n",
    "1. Строится двоичная запись числа N.  \n",
    "2. К&nbsp;этой записи дописываются справа ещё два разряда по&nbsp;следующему правилу:  \n",
    "а) складываются все цифры двоичной записи числа&nbsp;N, и&nbsp;остаток от&nbsp;деления суммы на&nbsp;2&nbsp;дописывается в&nbsp;конец числа (справа). Например, запись 11100 преобразуется в&nbsp;запись 111001;  \n",
    "б) над этой записью производятся те&nbsp;же действия &mdash; справа дописывается остаток от&nbsp;деления суммы цифр на&nbsp;2.\n",
    "\n",
    "Полученная таким образом запись (в&nbsp;ней на&nbsp;два разряда больше, чем в&nbsp;записи исходного числа&nbsp;N) является двоичной записью результирующего числа R.\n",
    "\n",
    "Укажите такое наименьшее число&nbsp;N, для которого результат работы алгоритма больше числа 77. В&nbsp;ответе это число запишите в&nbsp;десятичной системе счисления."
   ]
  },
  {
   "cell_type": "code",
   "execution_count": 60,
   "metadata": {},
   "outputs": [
    {
     "name": "stdout",
     "output_type": "stream",
     "text": [
      "19\n"
     ]
    }
   ],
   "source": [
    "for N in range(1, 100):\n",
    "    R = f'{N:b}'\n",
    "    s = sum(map(int, R)) % 2\n",
    "    R += str(s)\n",
    "    s = sum(map(int, R)) % 2\n",
    "    R += str(s)\n",
    "    if int(R, 2) > 77:\n",
    "        print(N)\n",
    "        break"
   ]
  },
  {
   "cell_type": "markdown",
   "metadata": {
    "pycharm": {
     "name": "#%% md\n"
    }
   },
   "source": [
    "**Задание 5.5** Автомат обрабатывает натуральное число&nbsp;N по&nbsp;следующему алгоритму:\n",
    "\n",
    "1. Строится двоичная запись числа N.  \n",
    "2. В&nbsp;конец записи (справа) добавляется (дублируется) последняя цифра.  \n",
    "3. Складываются все цифры полученной двоичной записи. В&nbsp;конец записи (справа) дописывается остаток от&nbsp;деления суммы на&nbsp;2.  \n",
    "4. Результат переводится в&nbsp;десятичную систему и&nbsp;выводится на&nbsp;экран.  \n",
    "\n",
    "Пример. Дано число N = 13. Алгоритм работает следующим образом:  \n",
    "1. Двоичная запись числа N: 1101.  \n",
    "2. Дублируется последняя цифра, новая запись 11011.  \n",
    "3. Сумма цифр полученной записи&nbsp;4, остаток от&nbsp;деления на&nbsp;2&nbsp;равен&nbsp;0, новая запись 110110.  \n",
    "4. На&nbsp;экран выводится число 54.  \n",
    "\n",
    "Какое наименьшее число, большее 105, может появиться на&nbsp;экране в&nbsp;результате работы автомата?"
   ]
  },
  {
   "cell_type": "code",
   "execution_count": 67,
   "metadata": {},
   "outputs": [
    {
     "name": "stdout",
     "output_type": "stream",
     "text": [
      "111\n"
     ]
    }
   ],
   "source": [
    "for N in range(1, 100):\n",
    "    R = f'{N:b}'\n",
    "    R += R[-1]\n",
    "    s = sum(map(int, R)) % 2\n",
    "    R += str(s)\n",
    "    R = int(R, 2)\n",
    "    if R > 105:\n",
    "        print(R)\n",
    "        break"
   ]
  }
 ],
 "metadata": {
  "kernelspec": {
   "display_name": "Python 3 (ipykernel)",
   "language": "python",
   "name": "python3"
  },
  "language_info": {
   "codemirror_mode": {
    "name": "ipython",
    "version": 3
   },
   "file_extension": ".py",
   "mimetype": "text/x-python",
   "name": "python",
   "nbconvert_exporter": "python",
   "pygments_lexer": "ipython3",
   "version": "3.10.4"
  },
  "latex_envs": {
   "LaTeX_envs_menu_present": false,
   "autoclose": false,
   "autocomplete": true,
   "bibliofile": "biblio.bib",
   "cite_by": "apalike",
   "current_citInitial": 1,
   "eqLabelWithNumbers": false,
   "eqNumInitial": 1,
   "hotkeys": {
    "equation": "Ctrl-E",
    "itemize": "Ctrl-I"
   },
   "labels_anchors": false,
   "latex_user_defs": false,
   "report_style_numbering": false,
   "user_envs_cfg": false
  }
 },
 "nbformat": 4,
 "nbformat_minor": 1
}
